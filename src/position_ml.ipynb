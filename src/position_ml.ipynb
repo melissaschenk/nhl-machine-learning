{
 "metadata": {
  "language_info": {
   "codemirror_mode": {
    "name": "ipython",
    "version": 3
   },
   "file_extension": ".py",
   "mimetype": "text/x-python",
   "name": "python",
   "nbconvert_exporter": "python",
   "pygments_lexer": "ipython3",
   "version": "3.8.3"
  },
  "orig_nbformat": 2,
  "kernelspec": {
   "name": "python383jvsc74a57bd080c97f02d7c11e83bc363ff72acb071775dee1823dc2665fdbc0eaa45fc52472",
   "display_name": "Python 3.8.3 64-bit (conda)"
  }
 },
 "nbformat": 4,
 "nbformat_minor": 2,
 "cells": [
  {
   "source": [
    "## Dependencies"
   ],
   "cell_type": "markdown",
   "metadata": {}
  },
  {
   "cell_type": "code",
   "execution_count": 1,
   "metadata": {},
   "outputs": [],
   "source": [
    "import numpy as np\n",
    "import pandas as pd"
   ]
  },
  {
   "source": [
    "## Import and Prep Data"
   ],
   "cell_type": "markdown",
   "metadata": {}
  },
  {
   "cell_type": "code",
   "execution_count": 8,
   "metadata": {},
   "outputs": [
    {
     "output_type": "execute_result",
     "data": {
      "text/plain": [
       "Index(['game_id', 'player_id', 'primaryPosition', 'team_id', 'timeOnIce',\n",
       "       'assists', 'goals', 'shots', 'hits', 'powerPlayGoals',\n",
       "       'powerPlayAssists', 'penaltyMinutes', 'faceOffWins', 'faceoffTaken',\n",
       "       'takeaways', 'giveaways', 'shortHandedGoals', 'shortHandedAssists',\n",
       "       'blocked', 'plusMinus', 'evenTimeOnIce', 'shortHandedTimeOnIce',\n",
       "       'powerPlayTimeOnIce'],\n",
       "      dtype='object')"
      ]
     },
     "metadata": {},
     "execution_count": 8
    }
   ],
   "source": [
    "# Player data from CSV\n",
    "stats = pd.read_csv(\"../resources/game_skater_stats.csv\")\n",
    "stats.columns"
   ]
  },
  {
   "cell_type": "code",
   "execution_count": 9,
   "metadata": {},
   "outputs": [],
   "source": [
    "# Group player ids to get total player stats\n",
    "player_stats_avg = stats.groupby([\"player_id\",\"primaryPosition\"],as_index=False).mean().fillna(0)\n",
    "player_stats_sum = stats.groupby(\"player_id\").sum()"
   ]
  },
  {
   "cell_type": "code",
   "execution_count": 10,
   "metadata": {},
   "outputs": [],
   "source": [
    "X_df = player_stats_avg.drop(columns=[\"game_id\",\"team_id\",\"player_id\",\"primaryPosition\"])"
   ]
  },
  {
   "cell_type": "code",
   "execution_count": 15,
   "metadata": {},
   "outputs": [],
   "source": [
    "# Establish X, y\n",
    "X = X_df.values\n",
    "y = player_stats_avg[\"primaryPosition\"]"
   ]
  },
  {
   "source": [
    "## Create Training and Testing sets"
   ],
   "cell_type": "markdown",
   "metadata": {}
  },
  {
   "cell_type": "code",
   "execution_count": 23,
   "metadata": {},
   "outputs": [],
   "source": [
    "# Import Dependencies\n",
    "from sklearn.model_selection import train_test_split\n",
    "from sklearn.preprocessing import LabelEncoder"
   ]
  },
  {
   "cell_type": "code",
   "execution_count": 24,
   "metadata": {},
   "outputs": [],
   "source": [
    "# Convert Player Positions (C, W, D) to numerical values\n",
    "label_encoder = LabelEncoder()\n",
    "label_encoder.fit(y)\n",
    "encoded_y = label_encoder.transform(y)"
   ]
  },
  {
   "cell_type": "code",
   "execution_count": 53,
   "metadata": {
    "tags": []
   },
   "outputs": [],
   "source": [
    "## CLASSES\n",
    "# 0 - C (Center)\n",
    "# 1 - D (Defense)\n",
    "# 2 - W (Winger)"
   ]
  },
  {
   "cell_type": "code",
   "execution_count": 39,
   "metadata": {},
   "outputs": [],
   "source": [
    "# Create train and test splits\n",
    "X_train, X_test, y_uncat_train, y_uncat_test = train_test_split(X, encoded_y, random_state=42)"
   ]
  },
  {
   "cell_type": "code",
   "execution_count": 40,
   "metadata": {},
   "outputs": [],
   "source": [
    "# Categorize the y\n",
    "y_train = to_categorical(y_uncat_train)\n",
    "y_test = to_categorical(y_uncat_test)"
   ]
  },
  {
   "source": [
    "## Build a Deep Neural Network"
   ],
   "cell_type": "markdown",
   "metadata": {}
  },
  {
   "cell_type": "code",
   "execution_count": 64,
   "metadata": {},
   "outputs": [],
   "source": [
    "# Import Dependecies\n",
    "import tensorflow as tf\n",
    "from tensorflow.keras.models import Sequential\n",
    "from tensorflow.keras.utils import to_categorical\n",
    "from tensorflow.keras.layers import Dense"
   ]
  },
  {
   "cell_type": "code",
   "execution_count": 65,
   "metadata": {},
   "outputs": [],
   "source": [
    "# Create an empty sequential model\n",
    "model = Sequential()"
   ]
  },
  {
   "cell_type": "code",
   "execution_count": 66,
   "metadata": {},
   "outputs": [],
   "source": [
    "# Add the first layer where the input dimensions are the columns of the training data\n",
    "model.add(Dense(100, activation=\"relu\", input_dim=X_train.shape[1]))"
   ]
  },
  {
   "cell_type": "code",
   "execution_count": 67,
   "metadata": {},
   "outputs": [],
   "source": [
    "# Add a second hidden layer\n",
    "model.add(Dense(100, activation=\"relu\"))"
   ]
  },
  {
   "cell_type": "code",
   "execution_count": 68,
   "metadata": {},
   "outputs": [],
   "source": [
    "# Add output layer\n",
    "model.add(Dense(units=y_train.shape[1], activation=\"softmax\"))"
   ]
  },
  {
   "cell_type": "code",
   "execution_count": 69,
   "metadata": {},
   "outputs": [],
   "source": [
    "# Compile the model using categorical_crossentropy for the loss function, the adam optimizer,\n",
    "# and add accuracy to the training metrics\n",
    "model.compile(optimizer=\"adam\", loss=\"categorical_crossentropy\", metrics=[\"accuracy\"])"
   ]
  },
  {
   "cell_type": "code",
   "execution_count": 70,
   "metadata": {},
   "outputs": [
    {
     "output_type": "stream",
     "name": "stdout",
     "text": [
      "Epoch 1/100\n",
      "79/79 - 0s - loss: 18.5132 - accuracy: 0.3811\n",
      "Epoch 2/100\n",
      "79/79 - 0s - loss: 1.8678 - accuracy: 0.4272\n",
      "Epoch 3/100\n",
      "79/79 - 0s - loss: 1.6156 - accuracy: 0.4869\n",
      "Epoch 4/100\n",
      "79/79 - 0s - loss: 1.2103 - accuracy: 0.5923\n",
      "Epoch 5/100\n",
      "79/79 - 0s - loss: 1.0687 - accuracy: 0.6090\n",
      "Epoch 6/100\n",
      "79/79 - 0s - loss: 0.9091 - accuracy: 0.6575\n",
      "Epoch 7/100\n",
      "79/79 - 0s - loss: 1.0300 - accuracy: 0.6348\n",
      "Epoch 8/100\n",
      "79/79 - 0s - loss: 1.0787 - accuracy: 0.6201\n",
      "Epoch 9/100\n",
      "79/79 - 0s - loss: 1.0134 - accuracy: 0.6480\n",
      "Epoch 10/100\n",
      "79/79 - 0s - loss: 0.9875 - accuracy: 0.6404\n",
      "Epoch 11/100\n",
      "79/79 - 0s - loss: 1.1852 - accuracy: 0.6639\n",
      "Epoch 12/100\n",
      "79/79 - 0s - loss: 1.6921 - accuracy: 0.5732\n",
      "Epoch 13/100\n",
      "79/79 - 0s - loss: 0.9973 - accuracy: 0.6858\n",
      "Epoch 14/100\n",
      "79/79 - 0s - loss: 0.8491 - accuracy: 0.6862\n",
      "Epoch 15/100\n",
      "79/79 - 0s - loss: 1.4278 - accuracy: 0.6277\n",
      "Epoch 16/100\n",
      "79/79 - 0s - loss: 1.1021 - accuracy: 0.6555\n",
      "Epoch 17/100\n",
      "79/79 - 0s - loss: 1.3908 - accuracy: 0.6595\n",
      "Epoch 18/100\n",
      "79/79 - 0s - loss: 0.7874 - accuracy: 0.7180\n",
      "Epoch 19/100\n",
      "79/79 - 0s - loss: 0.6892 - accuracy: 0.7550\n",
      "Epoch 20/100\n",
      "79/79 - 0s - loss: 1.0259 - accuracy: 0.6683\n",
      "Epoch 21/100\n",
      "79/79 - 0s - loss: 0.6436 - accuracy: 0.7601\n",
      "Epoch 22/100\n",
      "79/79 - 0s - loss: 0.6171 - accuracy: 0.7701\n",
      "Epoch 23/100\n",
      "79/79 - 0s - loss: 0.6033 - accuracy: 0.7693\n",
      "Epoch 24/100\n",
      "79/79 - 0s - loss: 0.7538 - accuracy: 0.7295\n",
      "Epoch 25/100\n",
      "79/79 - 0s - loss: 1.2167 - accuracy: 0.6766\n",
      "Epoch 26/100\n",
      "79/79 - 0s - loss: 0.7831 - accuracy: 0.7339\n",
      "Epoch 27/100\n",
      "79/79 - 0s - loss: 1.0102 - accuracy: 0.6794\n",
      "Epoch 28/100\n",
      "79/79 - 0s - loss: 0.6839 - accuracy: 0.7522\n",
      "Epoch 29/100\n",
      "79/79 - 0s - loss: 0.8492 - accuracy: 0.7275\n",
      "Epoch 30/100\n",
      "79/79 - 0s - loss: 0.5186 - accuracy: 0.8107\n",
      "Epoch 31/100\n",
      "79/79 - 0s - loss: 0.7359 - accuracy: 0.7458\n",
      "Epoch 32/100\n",
      "79/79 - 0s - loss: 1.2243 - accuracy: 0.6710\n",
      "Epoch 33/100\n",
      "79/79 - 0s - loss: 0.9280 - accuracy: 0.7168\n",
      "Epoch 34/100\n",
      "79/79 - 0s - loss: 0.8470 - accuracy: 0.7299\n",
      "Epoch 35/100\n",
      "79/79 - 0s - loss: 1.2052 - accuracy: 0.7339\n",
      "Epoch 36/100\n",
      "79/79 - 0s - loss: 0.6769 - accuracy: 0.7613\n",
      "Epoch 37/100\n",
      "79/79 - 0s - loss: 0.6196 - accuracy: 0.7796\n",
      "Epoch 38/100\n",
      "79/79 - 0s - loss: 0.8753 - accuracy: 0.7239\n",
      "Epoch 39/100\n",
      "79/79 - 0s - loss: 0.8844 - accuracy: 0.7263\n",
      "Epoch 40/100\n",
      "79/79 - 0s - loss: 0.5521 - accuracy: 0.7987\n",
      "Epoch 41/100\n",
      "79/79 - 0s - loss: 0.7589 - accuracy: 0.7470\n",
      "Epoch 42/100\n",
      "79/79 - 0s - loss: 0.6014 - accuracy: 0.7800\n",
      "Epoch 43/100\n",
      "79/79 - 0s - loss: 0.5098 - accuracy: 0.8063\n",
      "Epoch 44/100\n",
      "79/79 - 0s - loss: 0.5872 - accuracy: 0.7840\n",
      "Epoch 45/100\n",
      "79/79 - 0s - loss: 0.8487 - accuracy: 0.7283\n",
      "Epoch 46/100\n",
      "79/79 - 0s - loss: 0.7270 - accuracy: 0.7522\n",
      "Epoch 47/100\n",
      "79/79 - 0s - loss: 0.5615 - accuracy: 0.8063\n",
      "Epoch 48/100\n",
      "79/79 - 0s - loss: 0.7482 - accuracy: 0.7426\n",
      "Epoch 49/100\n",
      "79/79 - 0s - loss: 0.8638 - accuracy: 0.7291\n",
      "Epoch 50/100\n",
      "79/79 - 0s - loss: 0.4691 - accuracy: 0.8190\n",
      "Epoch 51/100\n",
      "79/79 - 0s - loss: 0.4801 - accuracy: 0.8138\n",
      "Epoch 52/100\n",
      "79/79 - 0s - loss: 0.6961 - accuracy: 0.7601\n",
      "Epoch 53/100\n",
      "79/79 - 0s - loss: 0.5463 - accuracy: 0.7979\n",
      "Epoch 54/100\n",
      "79/79 - 0s - loss: 0.5357 - accuracy: 0.7991\n",
      "Epoch 55/100\n",
      "79/79 - 0s - loss: 0.5458 - accuracy: 0.8023\n",
      "Epoch 56/100\n",
      "79/79 - 0s - loss: 0.5630 - accuracy: 0.7868\n",
      "Epoch 57/100\n",
      "79/79 - 0s - loss: 0.4929 - accuracy: 0.8079\n",
      "Epoch 58/100\n",
      "79/79 - 0s - loss: 0.6008 - accuracy: 0.7924\n",
      "Epoch 59/100\n",
      "79/79 - 0s - loss: 1.0126 - accuracy: 0.7188\n",
      "Epoch 60/100\n",
      "79/79 - 0s - loss: 0.6359 - accuracy: 0.7828\n",
      "Epoch 61/100\n",
      "79/79 - 0s - loss: 0.5090 - accuracy: 0.8130\n",
      "Epoch 62/100\n",
      "79/79 - 0s - loss: 0.4973 - accuracy: 0.8134\n",
      "Epoch 63/100\n",
      "79/79 - 0s - loss: 0.4746 - accuracy: 0.8115\n",
      "Epoch 64/100\n",
      "79/79 - 0s - loss: 0.5134 - accuracy: 0.8103\n",
      "Epoch 65/100\n",
      "79/79 - 0s - loss: 0.6633 - accuracy: 0.7796\n",
      "Epoch 66/100\n",
      "79/79 - 0s - loss: 0.7477 - accuracy: 0.7391\n",
      "Epoch 67/100\n",
      "79/79 - 0s - loss: 0.6444 - accuracy: 0.7800\n",
      "Epoch 68/100\n",
      "79/79 - 0s - loss: 0.6397 - accuracy: 0.7749\n",
      "Epoch 69/100\n",
      "79/79 - 0s - loss: 0.5310 - accuracy: 0.7963\n",
      "Epoch 70/100\n",
      "79/79 - 0s - loss: 0.6050 - accuracy: 0.7888\n",
      "Epoch 71/100\n",
      "79/79 - 0s - loss: 0.6091 - accuracy: 0.7840\n",
      "Epoch 72/100\n",
      "79/79 - 0s - loss: 0.7212 - accuracy: 0.7586\n",
      "Epoch 73/100\n",
      "79/79 - 0s - loss: 0.5249 - accuracy: 0.8194\n",
      "Epoch 74/100\n",
      "79/79 - 0s - loss: 0.4788 - accuracy: 0.8186\n",
      "Epoch 75/100\n",
      "79/79 - 0s - loss: 0.6015 - accuracy: 0.7824\n",
      "Epoch 76/100\n",
      "79/79 - 0s - loss: 0.6607 - accuracy: 0.7916\n",
      "Epoch 77/100\n",
      "79/79 - 0s - loss: 0.4968 - accuracy: 0.8230\n",
      "Epoch 78/100\n",
      "79/79 - 0s - loss: 0.4432 - accuracy: 0.8305\n",
      "Epoch 79/100\n",
      "79/79 - 0s - loss: 0.5654 - accuracy: 0.7995\n",
      "Epoch 80/100\n",
      "79/79 - 0s - loss: 0.4953 - accuracy: 0.8158\n",
      "Epoch 81/100\n",
      "79/79 - 0s - loss: 0.4869 - accuracy: 0.8234\n",
      "Epoch 82/100\n",
      "79/79 - 0s - loss: 0.4858 - accuracy: 0.8222\n",
      "Epoch 83/100\n",
      "79/79 - 0s - loss: 0.5118 - accuracy: 0.8107\n",
      "Epoch 84/100\n",
      "79/79 - 0s - loss: 0.5000 - accuracy: 0.8194\n",
      "Epoch 85/100\n",
      "79/79 - 0s - loss: 0.6831 - accuracy: 0.7673\n",
      "Epoch 86/100\n",
      "79/79 - 0s - loss: 0.7523 - accuracy: 0.7637\n",
      "Epoch 87/100\n",
      "79/79 - 0s - loss: 0.5335 - accuracy: 0.7975\n",
      "Epoch 88/100\n",
      "79/79 - 0s - loss: 0.4758 - accuracy: 0.8170\n",
      "Epoch 89/100\n",
      "79/79 - 0s - loss: 0.4635 - accuracy: 0.8278\n",
      "Epoch 90/100\n",
      "79/79 - 0s - loss: 0.4797 - accuracy: 0.8246\n",
      "Epoch 91/100\n",
      "79/79 - 0s - loss: 0.5530 - accuracy: 0.7999\n",
      "Epoch 92/100\n",
      "79/79 - 0s - loss: 0.4974 - accuracy: 0.8190\n",
      "Epoch 93/100\n",
      "79/79 - 0s - loss: 0.4939 - accuracy: 0.8178\n",
      "Epoch 94/100\n",
      "79/79 - 0s - loss: 0.4695 - accuracy: 0.8274\n",
      "Epoch 95/100\n",
      "79/79 - 0s - loss: 0.4571 - accuracy: 0.8282\n",
      "Epoch 96/100\n",
      "79/79 - 0s - loss: 0.4674 - accuracy: 0.8270\n",
      "Epoch 97/100\n",
      "79/79 - 0s - loss: 0.4976 - accuracy: 0.8230\n",
      "Epoch 98/100\n",
      "79/79 - 0s - loss: 0.4560 - accuracy: 0.8270\n",
      "Epoch 99/100\n",
      "79/79 - 0s - loss: 0.4694 - accuracy: 0.8238\n",
      "Epoch 100/100\n",
      "79/79 - 0s - loss: 0.4353 - accuracy: 0.8337\n"
     ]
    },
    {
     "output_type": "execute_result",
     "data": {
      "text/plain": [
       "<tensorflow.python.keras.callbacks.History at 0x218a20ec280>"
      ]
     },
     "metadata": {},
     "execution_count": 70
    }
   ],
   "source": [
    "# Use the training data to fit (train) the model\n",
    "model.fit(X_train, y_train, epochs=100, shuffle=True, verbose=2)"
   ]
  },
  {
   "source": [
    "## Evaluate the Model"
   ],
   "cell_type": "markdown",
   "metadata": {}
  },
  {
   "cell_type": "code",
   "execution_count": 71,
   "metadata": {},
   "outputs": [
    {
     "output_type": "stream",
     "name": "stdout",
     "text": [
      "27/27 - 0s - loss: 0.3864 - accuracy: 0.8582\n",
      "Loss: 0.38638192415237427, Accuracy: 0.8581644892692566\n"
     ]
    }
   ],
   "source": [
    "# Evaluate the model using the training data\n",
    "model_loss, model_accuracy = model.evaluate(X_test, y_test, verbose=2)\n",
    "print(f\"Loss: {model_loss}, Accuracy: {model_accuracy}\")"
   ]
  },
  {
   "cell_type": "code",
   "execution_count": null,
   "metadata": {},
   "outputs": [],
   "source": []
  }
 ]
}