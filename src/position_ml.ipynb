{
 "metadata": {
  "language_info": {
   "codemirror_mode": {
    "name": "ipython",
    "version": 3
   },
   "file_extension": ".py",
   "mimetype": "text/x-python",
   "name": "python",
   "nbconvert_exporter": "python",
   "pygments_lexer": "ipython3",
   "version": "3.8.3"
  },
  "orig_nbformat": 2,
  "kernelspec": {
   "name": "python383jvsc74a57bd080c97f02d7c11e83bc363ff72acb071775dee1823dc2665fdbc0eaa45fc52472",
   "display_name": "Python 3.8.3 64-bit (conda)"
  }
 },
 "nbformat": 4,
 "nbformat_minor": 2,
 "cells": [
  {
   "source": [
    "## Dependencies"
   ],
   "cell_type": "markdown",
   "metadata": {}
  },
  {
   "cell_type": "code",
   "execution_count": 1,
   "metadata": {},
   "outputs": [],
   "source": [
    "import numpy as np\n",
    "import pandas as pd"
   ]
  },
  {
   "source": [
    "## Import and Prep Data"
   ],
   "cell_type": "markdown",
   "metadata": {}
  },
  {
   "cell_type": "code",
   "execution_count": 2,
   "metadata": {},
   "outputs": [
    {
     "output_type": "execute_result",
     "data": {
      "text/plain": [
       "Index(['game_id', 'player_id', 'primaryPosition', 'team_id', 'timeOnIce',\n",
       "       'assists', 'goals', 'shots', 'hits', 'powerPlayGoals',\n",
       "       'powerPlayAssists', 'penaltyMinutes', 'faceOffWins', 'faceoffTaken',\n",
       "       'takeaways', 'giveaways', 'shortHandedGoals', 'shortHandedAssists',\n",
       "       'blocked', 'plusMinus', 'evenTimeOnIce', 'shortHandedTimeOnIce',\n",
       "       'powerPlayTimeOnIce'],\n",
       "      dtype='object')"
      ]
     },
     "metadata": {},
     "execution_count": 2
    }
   ],
   "source": [
    "# Player data from CSV\n",
    "stats = pd.read_csv(\"../resources/game_skater_stats.csv\")\n",
    "stats.columns"
   ]
  },
  {
   "cell_type": "code",
   "execution_count": 3,
   "metadata": {},
   "outputs": [],
   "source": [
    "# Group player ids to get total player stats\n",
    "player_stats_avg = stats.groupby([\"player_id\",\"primaryPosition\"],as_index=False).mean().fillna(0)\n",
    "player_stats_sum = stats.groupby(\"player_id\").sum()"
   ]
  },
  {
   "cell_type": "code",
   "execution_count": 4,
   "metadata": {},
   "outputs": [],
   "source": [
    "X_df = player_stats_avg.drop(columns=[\"game_id\",\"team_id\",\"player_id\",\"primaryPosition\"])"
   ]
  },
  {
   "cell_type": "code",
   "execution_count": 5,
   "metadata": {},
   "outputs": [],
   "source": [
    "# Establish X, y\n",
    "X = X_df.values\n",
    "y = player_stats_avg[\"primaryPosition\"]"
   ]
  },
  {
   "source": [
    "## Create Training and Testing sets"
   ],
   "cell_type": "markdown",
   "metadata": {}
  },
  {
   "cell_type": "code",
   "execution_count": 6,
   "metadata": {},
   "outputs": [],
   "source": [
    "# Import Dependencies\n",
    "from sklearn.model_selection import train_test_split\n",
    "from sklearn.preprocessing import LabelEncoder\n",
    "from tensorflow.keras.utils import to_categorical"
   ]
  },
  {
   "cell_type": "code",
   "execution_count": 7,
   "metadata": {},
   "outputs": [],
   "source": [
    "# Convert Player Positions (C, W, D) to numerical values\n",
    "label_encoder = LabelEncoder()\n",
    "label_encoder.fit(y)\n",
    "encoded_y = label_encoder.transform(y)"
   ]
  },
  {
   "cell_type": "code",
   "execution_count": 8,
   "metadata": {
    "tags": []
   },
   "outputs": [],
   "source": [
    "## CLASSES\n",
    "# 0 - C (Center)\n",
    "# 1 - D (Defense)\n",
    "# 2 - W (Winger)"
   ]
  },
  {
   "cell_type": "code",
   "execution_count": 9,
   "metadata": {},
   "outputs": [],
   "source": [
    "# Create train and test splits\n",
    "X_train, X_test, y_uncat_train, y_uncat_test = train_test_split(X, encoded_y, random_state=42)"
   ]
  },
  {
   "cell_type": "code",
   "execution_count": 10,
   "metadata": {},
   "outputs": [],
   "source": [
    "# Categorize the y\n",
    "y_train = to_categorical(y_uncat_train)\n",
    "y_test = to_categorical(y_uncat_test)"
   ]
  },
  {
   "source": [
    "## Build a Deep Neural Network"
   ],
   "cell_type": "markdown",
   "metadata": {}
  },
  {
   "cell_type": "code",
   "execution_count": 11,
   "metadata": {},
   "outputs": [],
   "source": [
    "# Import Dependecies\n",
    "import tensorflow as tf\n",
    "from tensorflow.keras.models import Sequential\n",
    "from tensorflow.keras.layers import Dense"
   ]
  },
  {
   "cell_type": "code",
   "execution_count": 12,
   "metadata": {},
   "outputs": [],
   "source": [
    "# Create an empty sequential model\n",
    "model = Sequential()"
   ]
  },
  {
   "cell_type": "code",
   "execution_count": 13,
   "metadata": {},
   "outputs": [],
   "source": [
    "# Add the first layer where the input dimensions are the columns of the training data\n",
    "model.add(Dense(100, activation=\"relu\", input_dim=X_train.shape[1]))"
   ]
  },
  {
   "cell_type": "code",
   "execution_count": 14,
   "metadata": {},
   "outputs": [],
   "source": [
    "# Add a second hidden layer\n",
    "model.add(Dense(100, activation=\"relu\"))"
   ]
  },
  {
   "cell_type": "code",
   "execution_count": 15,
   "metadata": {},
   "outputs": [],
   "source": [
    "# Add output layer\n",
    "model.add(Dense(units=y_train.shape[1], activation=\"softmax\"))"
   ]
  },
  {
   "cell_type": "code",
   "execution_count": 16,
   "metadata": {},
   "outputs": [],
   "source": [
    "# Compile the model using categorical_crossentropy for the loss function, the adam optimizer,\n",
    "# and add accuracy to the training metrics\n",
    "model.compile(optimizer=\"adam\", loss=\"categorical_crossentropy\", metrics=[\"accuracy\"])"
   ]
  },
  {
   "cell_type": "code",
   "execution_count": 17,
   "metadata": {},
   "outputs": [
    {
     "output_type": "stream",
     "name": "stdout",
     "text": [
      "Epoch 1/100\n",
      "79/79 - 0s - loss: 4.2361 - accuracy: 0.4618\n",
      "Epoch 2/100\n",
      "79/79 - 0s - loss: 1.3486 - accuracy: 0.5378\n",
      "Epoch 3/100\n",
      "79/79 - 0s - loss: 2.0469 - accuracy: 0.5119\n",
      "Epoch 4/100\n",
      "79/79 - 0s - loss: 1.6721 - accuracy: 0.5628\n",
      "Epoch 5/100\n",
      "79/79 - 0s - loss: 1.0373 - accuracy: 0.6245\n",
      "Epoch 6/100\n",
      "79/79 - 0s - loss: 0.8697 - accuracy: 0.6671\n",
      "Epoch 7/100\n",
      "79/79 - 0s - loss: 0.9677 - accuracy: 0.6432\n",
      "Epoch 8/100\n",
      "79/79 - 0s - loss: 1.1122 - accuracy: 0.6420\n",
      "Epoch 9/100\n",
      "79/79 - 0s - loss: 0.7404 - accuracy: 0.7021\n",
      "Epoch 10/100\n",
      "79/79 - 0s - loss: 0.9431 - accuracy: 0.6647\n",
      "Epoch 11/100\n",
      "79/79 - 0s - loss: 1.1526 - accuracy: 0.6372\n",
      "Epoch 12/100\n",
      "79/79 - 0s - loss: 0.9858 - accuracy: 0.6826\n",
      "Epoch 13/100\n",
      "79/79 - 0s - loss: 0.9422 - accuracy: 0.6639\n",
      "Epoch 14/100\n",
      "79/79 - 0s - loss: 0.7288 - accuracy: 0.7279\n",
      "Epoch 15/100\n",
      "79/79 - 0s - loss: 0.7424 - accuracy: 0.7275\n",
      "Epoch 16/100\n",
      "79/79 - 0s - loss: 0.8569 - accuracy: 0.6830\n",
      "Epoch 17/100\n",
      "79/79 - 0s - loss: 0.6183 - accuracy: 0.7673\n",
      "Epoch 18/100\n",
      "79/79 - 0s - loss: 0.8484 - accuracy: 0.6949\n",
      "Epoch 19/100\n",
      "79/79 - 0s - loss: 0.8935 - accuracy: 0.7092\n",
      "Epoch 20/100\n",
      "79/79 - 0s - loss: 0.8388 - accuracy: 0.7033\n",
      "Epoch 21/100\n",
      "79/79 - 0s - loss: 0.8296 - accuracy: 0.7164\n",
      "Epoch 22/100\n",
      "79/79 - 0s - loss: 0.6899 - accuracy: 0.7574\n",
      "Epoch 23/100\n",
      "79/79 - 0s - loss: 0.6847 - accuracy: 0.7522\n",
      "Epoch 24/100\n",
      "79/79 - 0s - loss: 0.7161 - accuracy: 0.7430\n",
      "Epoch 25/100\n",
      "79/79 - 0s - loss: 0.7249 - accuracy: 0.7367\n",
      "Epoch 26/100\n",
      "79/79 - 0s - loss: 0.6032 - accuracy: 0.7701\n",
      "Epoch 27/100\n",
      "79/79 - 0s - loss: 0.5383 - accuracy: 0.7936\n",
      "Epoch 28/100\n",
      "79/79 - 0s - loss: 0.8145 - accuracy: 0.7144\n",
      "Epoch 29/100\n",
      "79/79 - 0s - loss: 0.8725 - accuracy: 0.7343\n",
      "Epoch 30/100\n",
      "79/79 - 0s - loss: 1.1761 - accuracy: 0.6687\n",
      "Epoch 31/100\n",
      "79/79 - 0s - loss: 0.7853 - accuracy: 0.7355\n",
      "Epoch 32/100\n",
      "79/79 - 0s - loss: 0.7942 - accuracy: 0.7454\n",
      "Epoch 33/100\n",
      "79/79 - 0s - loss: 0.8246 - accuracy: 0.7299\n",
      "Epoch 34/100\n",
      "79/79 - 0s - loss: 0.8985 - accuracy: 0.7295\n",
      "Epoch 35/100\n",
      "79/79 - 0s - loss: 0.7144 - accuracy: 0.7721\n",
      "Epoch 36/100\n",
      "79/79 - 0s - loss: 1.1448 - accuracy: 0.7076\n",
      "Epoch 37/100\n",
      "79/79 - 0s - loss: 0.7302 - accuracy: 0.7522\n",
      "Epoch 38/100\n",
      "79/79 - 0s - loss: 0.5917 - accuracy: 0.7840\n",
      "Epoch 39/100\n",
      "79/79 - 0s - loss: 0.5870 - accuracy: 0.7940\n",
      "Epoch 40/100\n",
      "79/79 - 0s - loss: 0.5702 - accuracy: 0.7780\n",
      "Epoch 41/100\n",
      "79/79 - 0s - loss: 0.6061 - accuracy: 0.7844\n",
      "Epoch 42/100\n",
      "79/79 - 0s - loss: 0.6800 - accuracy: 0.7653\n",
      "Epoch 43/100\n",
      "79/79 - 0s - loss: 0.7795 - accuracy: 0.7399\n",
      "Epoch 44/100\n",
      "79/79 - 0s - loss: 0.7222 - accuracy: 0.7713\n",
      "Epoch 45/100\n",
      "79/79 - 0s - loss: 0.6536 - accuracy: 0.7669\n",
      "Epoch 46/100\n",
      "79/79 - 0s - loss: 0.6541 - accuracy: 0.7737\n",
      "Epoch 47/100\n",
      "79/79 - 0s - loss: 0.5992 - accuracy: 0.7737\n",
      "Epoch 48/100\n",
      "79/79 - 0s - loss: 0.5574 - accuracy: 0.7896\n",
      "Epoch 49/100\n",
      "79/79 - 0s - loss: 0.6485 - accuracy: 0.7609\n",
      "Epoch 50/100\n",
      "79/79 - 0s - loss: 1.0037 - accuracy: 0.7104\n",
      "Epoch 51/100\n",
      "79/79 - 0s - loss: 0.5980 - accuracy: 0.7824\n",
      "Epoch 52/100\n",
      "79/79 - 0s - loss: 0.5439 - accuracy: 0.8027\n",
      "Epoch 53/100\n",
      "79/79 - 0s - loss: 0.6490 - accuracy: 0.7800\n",
      "Epoch 54/100\n",
      "79/79 - 0s - loss: 0.6131 - accuracy: 0.7876\n",
      "Epoch 55/100\n",
      "79/79 - 0s - loss: 0.6166 - accuracy: 0.7832\n",
      "Epoch 56/100\n",
      "79/79 - 0s - loss: 0.4830 - accuracy: 0.8174\n",
      "Epoch 57/100\n",
      "79/79 - 0s - loss: 0.5672 - accuracy: 0.7959\n",
      "Epoch 58/100\n",
      "79/79 - 0s - loss: 0.7148 - accuracy: 0.7494\n",
      "Epoch 59/100\n",
      "79/79 - 0s - loss: 0.6954 - accuracy: 0.7534\n",
      "Epoch 60/100\n",
      "79/79 - 0s - loss: 0.5573 - accuracy: 0.7979\n",
      "Epoch 61/100\n",
      "79/79 - 0s - loss: 0.5902 - accuracy: 0.7888\n",
      "Epoch 62/100\n",
      "79/79 - 0s - loss: 0.5467 - accuracy: 0.7908\n",
      "Epoch 63/100\n",
      "79/79 - 0s - loss: 0.6002 - accuracy: 0.7864\n",
      "Epoch 64/100\n",
      "79/79 - 0s - loss: 0.5474 - accuracy: 0.7912\n",
      "Epoch 65/100\n",
      "79/79 - 0s - loss: 0.7283 - accuracy: 0.7574\n",
      "Epoch 66/100\n",
      "79/79 - 0s - loss: 0.5495 - accuracy: 0.8067\n",
      "Epoch 67/100\n",
      "79/79 - 0s - loss: 0.5679 - accuracy: 0.7924\n",
      "Epoch 68/100\n",
      "79/79 - 0s - loss: 0.5684 - accuracy: 0.7971\n",
      "Epoch 69/100\n",
      "79/79 - 0s - loss: 0.5891 - accuracy: 0.7880\n",
      "Epoch 70/100\n",
      "79/79 - 0s - loss: 0.4881 - accuracy: 0.8309\n",
      "Epoch 71/100\n",
      "79/79 - 0s - loss: 0.4966 - accuracy: 0.8162\n",
      "Epoch 72/100\n",
      "79/79 - 0s - loss: 0.5011 - accuracy: 0.8107\n",
      "Epoch 73/100\n",
      "79/79 - 0s - loss: 0.5608 - accuracy: 0.8003\n",
      "Epoch 74/100\n",
      "79/79 - 0s - loss: 0.4403 - accuracy: 0.8329\n",
      "Epoch 75/100\n",
      "79/79 - 0s - loss: 0.4653 - accuracy: 0.8222\n",
      "Epoch 76/100\n",
      "79/79 - 0s - loss: 0.4591 - accuracy: 0.8226\n",
      "Epoch 77/100\n",
      "79/79 - 0s - loss: 0.5236 - accuracy: 0.7951\n",
      "Epoch 78/100\n",
      "79/79 - 0s - loss: 0.6090 - accuracy: 0.7820\n",
      "Epoch 79/100\n",
      "79/79 - 0s - loss: 0.5729 - accuracy: 0.7963\n",
      "Epoch 80/100\n",
      "79/79 - 0s - loss: 0.5836 - accuracy: 0.8023\n",
      "Epoch 81/100\n",
      "79/79 - 0s - loss: 0.5511 - accuracy: 0.7983\n",
      "Epoch 82/100\n",
      "79/79 - 0s - loss: 0.5539 - accuracy: 0.8015\n",
      "Epoch 83/100\n",
      "79/79 - 0s - loss: 0.4949 - accuracy: 0.8254\n",
      "Epoch 84/100\n",
      "79/79 - 0s - loss: 0.5187 - accuracy: 0.8071\n",
      "Epoch 85/100\n",
      "79/79 - 0s - loss: 0.5289 - accuracy: 0.8007\n",
      "Epoch 86/100\n",
      "79/79 - 0s - loss: 0.5177 - accuracy: 0.8182\n",
      "Epoch 87/100\n",
      "79/79 - 0s - loss: 0.5260 - accuracy: 0.8003\n",
      "Epoch 88/100\n",
      "79/79 - 0s - loss: 0.5096 - accuracy: 0.8146\n",
      "Epoch 89/100\n",
      "79/79 - 0s - loss: 0.4507 - accuracy: 0.8325\n",
      "Epoch 90/100\n",
      "79/79 - 0s - loss: 0.4558 - accuracy: 0.8317\n",
      "Epoch 91/100\n",
      "79/79 - 0s - loss: 0.4300 - accuracy: 0.8377\n",
      "Epoch 92/100\n",
      "79/79 - 0s - loss: 0.4304 - accuracy: 0.8373\n",
      "Epoch 93/100\n",
      "79/79 - 0s - loss: 0.4910 - accuracy: 0.8126\n",
      "Epoch 94/100\n",
      "79/79 - 0s - loss: 0.4524 - accuracy: 0.8262\n",
      "Epoch 95/100\n",
      "79/79 - 0s - loss: 0.5172 - accuracy: 0.8111\n",
      "Epoch 96/100\n",
      "79/79 - 0s - loss: 0.5045 - accuracy: 0.8083\n",
      "Epoch 97/100\n",
      "79/79 - 0s - loss: 0.5525 - accuracy: 0.8015\n",
      "Epoch 98/100\n",
      "79/79 - 0s - loss: 0.5095 - accuracy: 0.8178\n",
      "Epoch 99/100\n",
      "79/79 - 0s - loss: 0.4877 - accuracy: 0.8182\n",
      "Epoch 100/100\n",
      "79/79 - 0s - loss: 0.5127 - accuracy: 0.8099\n"
     ]
    },
    {
     "output_type": "execute_result",
     "data": {
      "text/plain": [
       "<tensorflow.python.keras.callbacks.History at 0x17418394b80>"
      ]
     },
     "metadata": {},
     "execution_count": 17
    }
   ],
   "source": [
    "# Use the training data to fit (train) the model\n",
    "model.fit(X_train, y_train, epochs=100, shuffle=True, verbose=2)"
   ]
  },
  {
   "source": [
    "## Evaluate the Model"
   ],
   "cell_type": "markdown",
   "metadata": {}
  },
  {
   "cell_type": "code",
   "execution_count": 18,
   "metadata": {},
   "outputs": [
    {
     "output_type": "stream",
     "name": "stdout",
     "text": [
      "27/27 - 0s - loss: 0.3562 - accuracy: 0.8653\n",
      "Loss: 0.3561771512031555, Accuracy: 0.865315854549408\n"
     ]
    }
   ],
   "source": [
    "# Evaluate the model using the training data\n",
    "model_loss, model_accuracy = model.evaluate(X_test, y_test, verbose=2)\n",
    "print(f\"Loss: {model_loss}, Accuracy: {model_accuracy}\")"
   ]
  },
  {
   "cell_type": "code",
   "execution_count": null,
   "metadata": {},
   "outputs": [],
   "source": []
  }
 ]
}