{
 "metadata": {
  "language_info": {
   "codemirror_mode": {
    "name": "ipython",
    "version": 3
   },
   "file_extension": ".py",
   "mimetype": "text/x-python",
   "name": "python",
   "nbconvert_exporter": "python",
   "pygments_lexer": "ipython3",
   "version": "3.8.3"
  },
  "orig_nbformat": 2,
  "kernelspec": {
   "name": "python383jvsc74a57bd080c97f02d7c11e83bc363ff72acb071775dee1823dc2665fdbc0eaa45fc52472",
   "display_name": "Python 3.8.3 64-bit (conda)"
  }
 },
 "nbformat": 4,
 "nbformat_minor": 2,
 "cells": [
  {
   "source": [
    "## Dependencies"
   ],
   "cell_type": "markdown",
   "metadata": {}
  },
  {
   "cell_type": "code",
   "execution_count": 1,
   "metadata": {},
   "outputs": [],
   "source": [
    "import numpy as np\n",
    "import pandas as pd"
   ]
  },
  {
   "source": [
    "## Import and Prep Data"
   ],
   "cell_type": "markdown",
   "metadata": {}
  },
  {
   "cell_type": "code",
   "execution_count": 2,
   "metadata": {},
   "outputs": [
    {
     "output_type": "execute_result",
     "data": {
      "text/plain": [
       "Index(['game_id', 'player_id', 'primaryPosition', 'team_id', 'timeOnIce',\n",
       "       'assists', 'goals', 'shots', 'hits', 'powerPlayGoals',\n",
       "       'powerPlayAssists', 'penaltyMinutes', 'faceOffWins', 'faceoffTaken',\n",
       "       'takeaways', 'giveaways', 'shortHandedGoals', 'shortHandedAssists',\n",
       "       'blocked', 'plusMinus', 'evenTimeOnIce', 'shortHandedTimeOnIce',\n",
       "       'powerPlayTimeOnIce'],\n",
       "      dtype='object')"
      ]
     },
     "metadata": {},
     "execution_count": 2
    }
   ],
   "source": [
    "# Player data from CSV\n",
    "stats = pd.read_csv(\"../resources/game_skater_stats.csv\")\n",
    "stats.columns"
   ]
  },
  {
   "cell_type": "code",
   "execution_count": 3,
   "metadata": {},
   "outputs": [],
   "source": [
    "# Group player ids to get total player stats\n",
    "player_stats_avg = stats.groupby([\"player_id\",\"primaryPosition\"],as_index=False).mean().fillna(0)"
   ]
  },
  {
   "cell_type": "code",
   "execution_count": 4,
   "metadata": {},
   "outputs": [],
   "source": [
    "X_df = player_stats_avg.drop(columns=[\"game_id\",\"team_id\",\"player_id\",\"primaryPosition\"])"
   ]
  },
  {
   "cell_type": "code",
   "execution_count": 5,
   "metadata": {},
   "outputs": [],
   "source": [
    "# Establish X, y\n",
    "X = X_df.values\n",
    "y = player_stats_avg[\"primaryPosition\"]"
   ]
  },
  {
   "source": [
    "## Create Training and Testing sets"
   ],
   "cell_type": "markdown",
   "metadata": {}
  },
  {
   "cell_type": "code",
   "execution_count": 6,
   "metadata": {},
   "outputs": [],
   "source": [
    "# Import Dependencies\n",
    "from sklearn.model_selection import train_test_split\n",
    "from sklearn.preprocessing import LabelEncoder\n",
    "from tensorflow.keras.utils import to_categorical"
   ]
  },
  {
   "cell_type": "code",
   "execution_count": 7,
   "metadata": {},
   "outputs": [],
   "source": [
    "# Convert Player Positions (C, W, D) to numerical values\n",
    "label_encoder = LabelEncoder()\n",
    "label_encoder.fit(y)\n",
    "encoded_y = label_encoder.transform(y)"
   ]
  },
  {
   "cell_type": "code",
   "execution_count": 8,
   "metadata": {
    "tags": []
   },
   "outputs": [],
   "source": [
    "## CLASSES\n",
    "# 0 - C (Center)\n",
    "# 1 - D (Defense)\n",
    "# 2 - W (Winger)"
   ]
  },
  {
   "cell_type": "code",
   "execution_count": 9,
   "metadata": {},
   "outputs": [],
   "source": [
    "# Create train and test splits\n",
    "X_train, X_test, y_uncat_train, y_uncat_test = train_test_split(X, encoded_y, random_state=42)"
   ]
  },
  {
   "cell_type": "code",
   "execution_count": 10,
   "metadata": {},
   "outputs": [],
   "source": [
    "# Categorize the y -- One-Hot Encoding\n",
    "y_train = to_categorical(y_uncat_train)\n",
    "y_test = to_categorical(y_uncat_test)"
   ]
  },
  {
   "cell_type": "code",
   "execution_count": 11,
   "metadata": {},
   "outputs": [],
   "source": [
    "from sklearn.preprocessing import StandardScaler\n",
    "\n",
    "# Standardize the columns\n",
    "X_scaler = StandardScaler().fit(X_train)\n",
    "X_train_scaled = X_scaler.transform(X_train)\n",
    "X_test_scaled = X_scaler.transform(X_test)"
   ]
  },
  {
   "source": [
    "## Build a Deep Neural Network"
   ],
   "cell_type": "markdown",
   "metadata": {}
  },
  {
   "cell_type": "code",
   "execution_count": 12,
   "metadata": {},
   "outputs": [],
   "source": [
    "# Import Dependecies\n",
    "import tensorflow as tf\n",
    "from tensorflow.keras.models import Sequential\n",
    "from tensorflow.keras.layers import Dense"
   ]
  },
  {
   "cell_type": "code",
   "execution_count": 13,
   "metadata": {},
   "outputs": [],
   "source": [
    "# Create an empty sequential model\n",
    "model = Sequential()"
   ]
  },
  {
   "cell_type": "code",
   "execution_count": 35,
   "metadata": {},
   "outputs": [],
   "source": [
    "# Add the first layer where the input dimensions are the columns of the training data\n",
    "model.add(Dense(19, activation=\"relu\", input_dim=X_train_scaled.shape[1]))"
   ]
  },
  {
   "cell_type": "code",
   "execution_count": 36,
   "metadata": {},
   "outputs": [],
   "source": [
    "# Add a second hidden layer\n",
    "model.add(Dense(19, activation=\"tanh\"))"
   ]
  },
  {
   "cell_type": "code",
   "execution_count": 37,
   "metadata": {},
   "outputs": [],
   "source": [
    "# Add output layer\n",
    "model.add(Dense(units=y_train.shape[1], activation=\"softmax\"))"
   ]
  },
  {
   "cell_type": "code",
   "execution_count": 38,
   "metadata": {},
   "outputs": [],
   "source": [
    "# Compile the model using categorical_crossentropy for the loss function, the adam optimizer,\n",
    "# and add accuracy to the training metrics\n",
    "model.compile(optimizer=\"adam\", loss=\"categorical_crossentropy\", metrics=[\"accuracy\"])"
   ]
  },
  {
   "cell_type": "code",
   "execution_count": 39,
   "metadata": {},
   "outputs": [
    {
     "output_type": "stream",
     "name": "stdout",
     "text": [
      "Epoch 1/100\n",
      "79/79 - 1s - loss: 0.9558 - accuracy: 0.7184\n",
      "Epoch 2/100\n",
      "79/79 - 0s - loss: 0.6607 - accuracy: 0.7637\n",
      "Epoch 3/100\n",
      "79/79 - 0s - loss: 0.4412 - accuracy: 0.9021\n",
      "Epoch 4/100\n",
      "79/79 - 0s - loss: 0.2332 - accuracy: 0.9714\n",
      "Epoch 5/100\n",
      "79/79 - 0s - loss: 0.1678 - accuracy: 0.9622\n",
      "Epoch 6/100\n",
      "79/79 - 0s - loss: 0.1307 - accuracy: 0.9726\n",
      "Epoch 7/100\n",
      "79/79 - 0s - loss: 0.1198 - accuracy: 0.9741\n",
      "Epoch 8/100\n",
      "79/79 - 0s - loss: 0.1401 - accuracy: 0.9658\n",
      "Epoch 9/100\n",
      "79/79 - 0s - loss: 0.1141 - accuracy: 0.9745\n",
      "Epoch 10/100\n",
      "79/79 - 0s - loss: 0.1279 - accuracy: 0.9710\n",
      "Epoch 11/100\n",
      "79/79 - 0s - loss: 0.0965 - accuracy: 0.9785\n",
      "Epoch 12/100\n",
      "79/79 - 0s - loss: 0.1011 - accuracy: 0.9737\n",
      "Epoch 13/100\n",
      "79/79 - 0s - loss: 0.1261 - accuracy: 0.9706\n",
      "Epoch 14/100\n",
      "79/79 - 0s - loss: 0.0855 - accuracy: 0.9809\n",
      "Epoch 15/100\n",
      "79/79 - 0s - loss: 0.0863 - accuracy: 0.9785\n",
      "Epoch 16/100\n",
      "79/79 - 0s - loss: 0.0868 - accuracy: 0.9793\n",
      "Epoch 17/100\n",
      "79/79 - 0s - loss: 0.0959 - accuracy: 0.9777\n",
      "Epoch 18/100\n",
      "79/79 - 0s - loss: 0.0744 - accuracy: 0.9825\n",
      "Epoch 19/100\n",
      "79/79 - 0s - loss: 0.0596 - accuracy: 0.9861\n",
      "Epoch 20/100\n",
      "79/79 - 0s - loss: 0.0531 - accuracy: 0.9881\n",
      "Epoch 21/100\n",
      "79/79 - 0s - loss: 0.0441 - accuracy: 0.9909\n",
      "Epoch 22/100\n",
      "79/79 - 0s - loss: 0.0463 - accuracy: 0.9889\n",
      "Epoch 23/100\n",
      "79/79 - 0s - loss: 0.0368 - accuracy: 0.9905\n",
      "Epoch 24/100\n",
      "79/79 - 0s - loss: 0.0526 - accuracy: 0.9865\n",
      "Epoch 25/100\n",
      "79/79 - 0s - loss: 0.0628 - accuracy: 0.9841\n",
      "Epoch 26/100\n",
      "79/79 - 0s - loss: 0.0626 - accuracy: 0.9845\n",
      "Epoch 27/100\n",
      "79/79 - 0s - loss: 0.0548 - accuracy: 0.9869\n",
      "Epoch 28/100\n",
      "79/79 - 0s - loss: 0.0639 - accuracy: 0.9821\n",
      "Epoch 29/100\n",
      "79/79 - 0s - loss: 0.0429 - accuracy: 0.9881\n",
      "Epoch 30/100\n",
      "79/79 - 0s - loss: 0.0346 - accuracy: 0.9909\n",
      "Epoch 31/100\n",
      "79/79 - 0s - loss: 0.0323 - accuracy: 0.9932\n",
      "Epoch 32/100\n",
      "79/79 - 0s - loss: 0.0264 - accuracy: 0.9936\n",
      "Epoch 33/100\n",
      "79/79 - 0s - loss: 0.0519 - accuracy: 0.9877\n",
      "Epoch 34/100\n",
      "79/79 - 0s - loss: 0.0684 - accuracy: 0.9833\n",
      "Epoch 35/100\n",
      "79/79 - 0s - loss: 0.0766 - accuracy: 0.9801\n",
      "Epoch 36/100\n",
      "79/79 - 0s - loss: 0.0915 - accuracy: 0.9773\n",
      "Epoch 37/100\n",
      "79/79 - 0s - loss: 0.0617 - accuracy: 0.9845\n",
      "Epoch 38/100\n",
      "79/79 - 0s - loss: 0.0333 - accuracy: 0.9916\n",
      "Epoch 39/100\n",
      "79/79 - 0s - loss: 0.0331 - accuracy: 0.9916\n",
      "Epoch 40/100\n",
      "79/79 - 0s - loss: 0.0527 - accuracy: 0.9877\n",
      "Epoch 41/100\n",
      "79/79 - 0s - loss: 0.0463 - accuracy: 0.9893\n",
      "Epoch 42/100\n",
      "79/79 - 0s - loss: 0.0462 - accuracy: 0.9877\n",
      "Epoch 43/100\n",
      "79/79 - 0s - loss: 0.0487 - accuracy: 0.9853\n",
      "Epoch 44/100\n",
      "79/79 - 0s - loss: 0.0427 - accuracy: 0.9905\n",
      "Epoch 45/100\n",
      "79/79 - 0s - loss: 0.0591 - accuracy: 0.9841\n",
      "Epoch 46/100\n",
      "79/79 - 0s - loss: 0.0487 - accuracy: 0.9853\n",
      "Epoch 47/100\n",
      "79/79 - 0s - loss: 0.0392 - accuracy: 0.9897\n",
      "Epoch 48/100\n",
      "79/79 - 0s - loss: 0.0318 - accuracy: 0.9893\n",
      "Epoch 49/100\n",
      "79/79 - 0s - loss: 0.0482 - accuracy: 0.9865\n",
      "Epoch 50/100\n",
      "79/79 - 0s - loss: 0.0378 - accuracy: 0.9881\n",
      "Epoch 51/100\n",
      "79/79 - 0s - loss: 0.0319 - accuracy: 0.9920\n",
      "Epoch 52/100\n",
      "79/79 - 0s - loss: 0.0168 - accuracy: 0.9952\n",
      "Epoch 53/100\n",
      "79/79 - 0s - loss: 0.0227 - accuracy: 0.9936\n",
      "Epoch 54/100\n",
      "79/79 - 0s - loss: 0.0151 - accuracy: 0.9960\n",
      "Epoch 55/100\n",
      "79/79 - 0s - loss: 0.0161 - accuracy: 0.9956\n",
      "Epoch 56/100\n",
      "79/79 - 0s - loss: 0.0141 - accuracy: 0.9956\n",
      "Epoch 57/100\n",
      "79/79 - 0s - loss: 0.0237 - accuracy: 0.9920\n",
      "Epoch 58/100\n",
      "79/79 - 0s - loss: 0.0503 - accuracy: 0.9865\n",
      "Epoch 59/100\n",
      "79/79 - 0s - loss: 0.1307 - accuracy: 0.9674\n",
      "Epoch 60/100\n",
      "79/79 - 0s - loss: 0.1077 - accuracy: 0.9741\n",
      "Epoch 61/100\n",
      "79/79 - 0s - loss: 0.0492 - accuracy: 0.9885\n",
      "Epoch 62/100\n",
      "79/79 - 0s - loss: 0.0335 - accuracy: 0.9912\n",
      "Epoch 63/100\n",
      "79/79 - 0s - loss: 0.0385 - accuracy: 0.9901\n",
      "Epoch 64/100\n",
      "79/79 - 0s - loss: 0.0560 - accuracy: 0.9841\n",
      "Epoch 65/100\n",
      "79/79 - 0s - loss: 0.0681 - accuracy: 0.9809\n",
      "Epoch 66/100\n",
      "79/79 - 0s - loss: 0.0646 - accuracy: 0.9813\n",
      "Epoch 67/100\n",
      "79/79 - 0s - loss: 0.0497 - accuracy: 0.9857\n",
      "Epoch 68/100\n",
      "79/79 - 0s - loss: 0.0295 - accuracy: 0.9905\n",
      "Epoch 69/100\n",
      "79/79 - 0s - loss: 0.0154 - accuracy: 0.9948\n",
      "Epoch 70/100\n",
      "79/79 - 0s - loss: 0.0136 - accuracy: 0.9956\n",
      "Epoch 71/100\n",
      "79/79 - 0s - loss: 0.0250 - accuracy: 0.9928\n",
      "Epoch 72/100\n",
      "79/79 - 0s - loss: 0.0230 - accuracy: 0.9928\n",
      "Epoch 73/100\n",
      "79/79 - 0s - loss: 0.0255 - accuracy: 0.9912\n",
      "Epoch 74/100\n",
      "79/79 - 0s - loss: 0.0275 - accuracy: 0.9901\n",
      "Epoch 75/100\n",
      "79/79 - 0s - loss: 0.0186 - accuracy: 0.9924\n",
      "Epoch 76/100\n",
      "79/79 - 0s - loss: 0.0422 - accuracy: 0.9889\n",
      "Epoch 77/100\n",
      "79/79 - 0s - loss: 0.0733 - accuracy: 0.9801\n",
      "Epoch 78/100\n",
      "79/79 - 0s - loss: 0.0997 - accuracy: 0.9702\n",
      "Epoch 79/100\n",
      "79/79 - 0s - loss: 0.0410 - accuracy: 0.9901\n",
      "Epoch 80/100\n",
      "79/79 - 0s - loss: 0.0232 - accuracy: 0.9948\n",
      "Epoch 81/100\n",
      "79/79 - 0s - loss: 0.0126 - accuracy: 0.9956\n",
      "Epoch 82/100\n",
      "79/79 - 0s - loss: 0.0163 - accuracy: 0.9952\n",
      "Epoch 83/100\n",
      "79/79 - 0s - loss: 0.0210 - accuracy: 0.9944\n",
      "Epoch 84/100\n",
      "79/79 - 0s - loss: 0.0136 - accuracy: 0.9960\n",
      "Epoch 85/100\n",
      "79/79 - 0s - loss: 0.0204 - accuracy: 0.9928\n",
      "Epoch 86/100\n",
      "79/79 - 0s - loss: 0.0171 - accuracy: 0.9956\n",
      "Epoch 87/100\n",
      "79/79 - 0s - loss: 0.0172 - accuracy: 0.9936\n",
      "Epoch 88/100\n",
      "79/79 - 0s - loss: 0.0174 - accuracy: 0.9940\n",
      "Epoch 89/100\n",
      "79/79 - 0s - loss: 0.0112 - accuracy: 0.9968\n",
      "Epoch 90/100\n",
      "79/79 - 0s - loss: 0.0194 - accuracy: 0.9948\n",
      "Epoch 91/100\n",
      "79/79 - 0s - loss: 0.0148 - accuracy: 0.9940\n",
      "Epoch 92/100\n",
      "79/79 - 0s - loss: 0.0294 - accuracy: 0.9909\n",
      "Epoch 93/100\n",
      "79/79 - 0s - loss: 0.1544 - accuracy: 0.9642\n",
      "Epoch 94/100\n",
      "79/79 - 0s - loss: 0.0837 - accuracy: 0.9773\n",
      "Epoch 95/100\n",
      "79/79 - 0s - loss: 0.0580 - accuracy: 0.9813\n",
      "Epoch 96/100\n",
      "79/79 - 0s - loss: 0.0437 - accuracy: 0.9869\n",
      "Epoch 97/100\n",
      "79/79 - 0s - loss: 0.0432 - accuracy: 0.9893\n",
      "Epoch 98/100\n",
      "79/79 - 0s - loss: 0.0469 - accuracy: 0.9873\n",
      "Epoch 99/100\n",
      "79/79 - 0s - loss: 0.0297 - accuracy: 0.9932\n",
      "Epoch 100/100\n",
      "79/79 - 0s - loss: 0.0198 - accuracy: 0.9928\n"
     ]
    },
    {
     "output_type": "execute_result",
     "data": {
      "text/plain": [
       "<tensorflow.python.keras.callbacks.History at 0x1c750e3d1c0>"
      ]
     },
     "metadata": {},
     "execution_count": 39
    }
   ],
   "source": [
    "# Use the training data to fit (train) the model\n",
    "model.fit(X_train_scaled, y_train, epochs=100, shuffle=True, verbose=2)"
   ]
  },
  {
   "source": [
    "## Evaluate the Model"
   ],
   "cell_type": "markdown",
   "metadata": {}
  },
  {
   "cell_type": "code",
   "execution_count": 32,
   "metadata": {},
   "outputs": [
    {
     "output_type": "stream",
     "name": "stdout",
     "text": [
      "27/27 - 0s - loss: 0.9922 - accuracy: 0.8212\n",
      "Loss: 0.9922102093696594, Accuracy: 0.8212157487869263\n"
     ]
    }
   ],
   "source": [
    "# Evaluate the model using the training data\n",
    "model_loss, model_accuracy = model.evaluate(X_test_scaled, y_test, verbose=2)\n",
    "print(f\"Loss: {model_loss}, Accuracy: {model_accuracy}\")"
   ]
  },
  {
   "cell_type": "code",
   "execution_count": 20,
   "metadata": {},
   "outputs": [],
   "source": [
    "# Row to test\n",
    "row = 3"
   ]
  },
  {
   "cell_type": "code",
   "execution_count": 21,
   "metadata": {},
   "outputs": [
    {
     "output_type": "execute_result",
     "data": {
      "text/plain": [
       "array([0., 0., 1.], dtype=float32)"
      ]
     },
     "metadata": {},
     "execution_count": 21
    }
   ],
   "source": [
    "# Actual Class\n",
    "y_test[row]"
   ]
  },
  {
   "cell_type": "code",
   "execution_count": 22,
   "metadata": {},
   "outputs": [],
   "source": [
    "# Grab just one data point to test with\n",
    "test = np.expand_dims(X_test[row], axis=0)"
   ]
  },
  {
   "cell_type": "code",
   "execution_count": 23,
   "metadata": {},
   "outputs": [
    {
     "output_type": "stream",
     "name": "stdout",
     "text": [
      "Predicted class: [1]\n"
     ]
    }
   ],
   "source": [
    "# Make a prediction. The result should be 5 - STANDING\n",
    "print(f\"Predicted class: {np.argmax(model.predict(test), axis=-1)}\")"
   ]
  },
  {
   "source": [
    "## Save the Model"
   ],
   "cell_type": "markdown",
   "metadata": {}
  },
  {
   "cell_type": "code",
   "execution_count": 24,
   "metadata": {},
   "outputs": [],
   "source": [
    "# Save model\n",
    "# model.save(\"position_model.h5\")"
   ]
  }
 ]
}