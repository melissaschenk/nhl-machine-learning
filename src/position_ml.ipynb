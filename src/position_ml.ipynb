{
 "metadata": {
  "language_info": {
   "codemirror_mode": {
    "name": "ipython",
    "version": 3
   },
   "file_extension": ".py",
   "mimetype": "text/x-python",
   "name": "python",
   "nbconvert_exporter": "python",
   "pygments_lexer": "ipython3",
   "version": "3.8.3"
  },
  "orig_nbformat": 2,
  "kernelspec": {
   "name": "python383jvsc74a57bd080c97f02d7c11e83bc363ff72acb071775dee1823dc2665fdbc0eaa45fc52472",
   "display_name": "Python 3.8.3 64-bit (conda)"
  }
 },
 "nbformat": 4,
 "nbformat_minor": 2,
 "cells": [
  {
   "source": [
    "## Dependencies"
   ],
   "cell_type": "markdown",
   "metadata": {}
  },
  {
   "cell_type": "code",
   "execution_count": 1,
   "metadata": {},
   "outputs": [],
   "source": [
    "import numpy as np\n",
    "import pandas as pd"
   ]
  },
  {
   "source": [
    "## Import and Prep Data"
   ],
   "cell_type": "markdown",
   "metadata": {}
  },
  {
   "cell_type": "code",
   "execution_count": 2,
   "metadata": {},
   "outputs": [
    {
     "output_type": "execute_result",
     "data": {
      "text/plain": [
       "Index(['game_id', 'player_id', 'primaryPosition', 'team_id', 'timeOnIce',\n",
       "       'assists', 'goals', 'shots', 'hits', 'powerPlayGoals',\n",
       "       'powerPlayAssists', 'penaltyMinutes', 'faceOffWins', 'faceoffTaken',\n",
       "       'takeaways', 'giveaways', 'shortHandedGoals', 'shortHandedAssists',\n",
       "       'blocked', 'plusMinus', 'evenTimeOnIce', 'shortHandedTimeOnIce',\n",
       "       'powerPlayTimeOnIce'],\n",
       "      dtype='object')"
      ]
     },
     "metadata": {},
     "execution_count": 2
    }
   ],
   "source": [
    "# Player data from CSV\n",
    "stats = pd.read_csv(\"../resources/game_skater_stats.csv\")\n",
    "stats.columns"
   ]
  },
  {
   "cell_type": "code",
   "execution_count": 3,
   "metadata": {},
   "outputs": [],
   "source": [
    "# Group player ids to get total player stats\n",
    "player_stats_avg = stats.groupby([\"player_id\",\"primaryPosition\"],as_index=False).mean().fillna(0)"
   ]
  },
  {
   "cell_type": "code",
   "execution_count": 4,
   "metadata": {},
   "outputs": [],
   "source": [
    "X_df = player_stats_avg.drop(columns=[\"game_id\",\"team_id\",\"player_id\",\"primaryPosition\"])"
   ]
  },
  {
   "cell_type": "code",
   "execution_count": 5,
   "metadata": {},
   "outputs": [],
   "source": [
    "# Establish X, y\n",
    "X = X_df.values\n",
    "y = player_stats_avg[\"primaryPosition\"]"
   ]
  },
  {
   "source": [
    "## Create Training and Testing sets"
   ],
   "cell_type": "markdown",
   "metadata": {}
  },
  {
   "cell_type": "code",
   "execution_count": 6,
   "metadata": {},
   "outputs": [],
   "source": [
    "# Import Dependencies\n",
    "from sklearn.model_selection import train_test_split\n",
    "from sklearn.preprocessing import LabelEncoder\n",
    "from tensorflow.keras.utils import to_categorical"
   ]
  },
  {
   "cell_type": "code",
   "execution_count": 7,
   "metadata": {},
   "outputs": [],
   "source": [
    "# Convert Player Positions (C, W, D) to numerical values\n",
    "label_encoder = LabelEncoder()\n",
    "label_encoder.fit(y)\n",
    "encoded_y = label_encoder.transform(y)"
   ]
  },
  {
   "cell_type": "code",
   "execution_count": 8,
   "metadata": {
    "tags": []
   },
   "outputs": [],
   "source": [
    "## CLASSES\n",
    "# 0 - C (Center)\n",
    "# 1 - D (Defense)\n",
    "# 2 - W (Winger)"
   ]
  },
  {
   "cell_type": "code",
   "execution_count": 9,
   "metadata": {},
   "outputs": [],
   "source": [
    "# Create train and test splits\n",
    "X_train, X_test, y_uncat_train, y_uncat_test = train_test_split(X, encoded_y, random_state=42)"
   ]
  },
  {
   "cell_type": "code",
   "execution_count": 10,
   "metadata": {},
   "outputs": [],
   "source": [
    "# Categorize the y -- One-Hot Encoding\n",
    "y_train = to_categorical(y_uncat_train)\n",
    "y_test = to_categorical(y_uncat_test)"
   ]
  },
  {
   "cell_type": "code",
   "execution_count": 11,
   "metadata": {},
   "outputs": [],
   "source": [
    "from sklearn.preprocessing import StandardScaler\n",
    "\n",
    "# Standardize the columns\n",
    "X_scaler = StandardScaler().fit(X_train)\n",
    "X_train_scaled = X_scaler.transform(X_train)\n",
    "X_test_scaled = X_scaler.transform(X_test)"
   ]
  },
  {
   "cell_type": "code",
   "execution_count": 27,
   "metadata": {},
   "outputs": [
    {
     "output_type": "execute_result",
     "data": {
      "text/plain": [
       "(2514, 19)"
      ]
     },
     "metadata": {},
     "execution_count": 27
    }
   ],
   "source": [
    "X_train.shape"
   ]
  },
  {
   "source": [
    "## Build a Deep Neural Network"
   ],
   "cell_type": "markdown",
   "metadata": {}
  },
  {
   "cell_type": "code",
   "execution_count": 12,
   "metadata": {},
   "outputs": [],
   "source": [
    "# Import Dependecies\n",
    "import tensorflow as tf\n",
    "from tensorflow.keras.models import Sequential\n",
    "from tensorflow.keras.layers import Dense"
   ]
  },
  {
   "cell_type": "code",
   "execution_count": 13,
   "metadata": {},
   "outputs": [],
   "source": [
    "# Create an empty sequential model\n",
    "model = Sequential()"
   ]
  },
  {
   "cell_type": "code",
   "execution_count": 14,
   "metadata": {},
   "outputs": [],
   "source": [
    "# Add the first layer where the input dimensions are the columns of the training data\n",
    "model.add(Dense(19, activation=\"relu\", input_dim=X_train_scaled.shape[1]))"
   ]
  },
  {
   "cell_type": "code",
   "execution_count": 15,
   "metadata": {},
   "outputs": [],
   "source": [
    "# Add a second hidden layer\n",
    "model.add(Dense(10, activation=\"tanh\"))"
   ]
  },
  {
   "cell_type": "code",
   "execution_count": 16,
   "metadata": {},
   "outputs": [],
   "source": [
    "# Add a second hidden layer\n",
    "model.add(Dense(10, activation=\"relu\"))"
   ]
  },
  {
   "cell_type": "code",
   "execution_count": 17,
   "metadata": {},
   "outputs": [],
   "source": [
    "# Add output layer\n",
    "model.add(Dense(units=y_train.shape[1], activation=\"softmax\"))"
   ]
  },
  {
   "cell_type": "code",
   "execution_count": 18,
   "metadata": {},
   "outputs": [],
   "source": [
    "# Compile the model using categorical_crossentropy for the loss function, the adam optimizer,\n",
    "# and add accuracy to the training metrics\n",
    "model.compile(optimizer=\"adam\", loss=\"categorical_crossentropy\", metrics=[\"accuracy\"])"
   ]
  },
  {
   "cell_type": "code",
   "execution_count": 19,
   "metadata": {},
   "outputs": [
    {
     "output_type": "stream",
     "name": "stdout",
     "text": [
      "Epoch 1/100\n",
      "79/79 - 1s - loss: 0.9980 - accuracy: 0.5111\n",
      "Epoch 2/100\n",
      "79/79 - 0s - loss: 0.7296 - accuracy: 0.7741\n",
      "Epoch 3/100\n",
      "79/79 - 0s - loss: 0.4959 - accuracy: 0.8401\n",
      "Epoch 4/100\n",
      "79/79 - 0s - loss: 0.4239 - accuracy: 0.8564\n",
      "Epoch 5/100\n",
      "79/79 - 0s - loss: 0.3972 - accuracy: 0.8600\n",
      "Epoch 6/100\n",
      "79/79 - 0s - loss: 0.3848 - accuracy: 0.8600\n",
      "Epoch 7/100\n",
      "79/79 - 0s - loss: 0.3752 - accuracy: 0.8608\n",
      "Epoch 8/100\n",
      "79/79 - 0s - loss: 0.3687 - accuracy: 0.8604\n",
      "Epoch 9/100\n",
      "79/79 - 0s - loss: 0.3630 - accuracy: 0.8644\n",
      "Epoch 10/100\n",
      "79/79 - 0s - loss: 0.3583 - accuracy: 0.8656\n",
      "Epoch 11/100\n",
      "79/79 - 0s - loss: 0.3541 - accuracy: 0.8671\n",
      "Epoch 12/100\n",
      "79/79 - 0s - loss: 0.3494 - accuracy: 0.8675\n",
      "Epoch 13/100\n",
      "79/79 - 0s - loss: 0.3472 - accuracy: 0.8671\n",
      "Epoch 14/100\n",
      "79/79 - 0s - loss: 0.3438 - accuracy: 0.8691\n",
      "Epoch 15/100\n",
      "79/79 - 0s - loss: 0.3410 - accuracy: 0.8679\n",
      "Epoch 16/100\n",
      "79/79 - 0s - loss: 0.3377 - accuracy: 0.8683\n",
      "Epoch 17/100\n",
      "79/79 - 0s - loss: 0.3345 - accuracy: 0.8695\n",
      "Epoch 18/100\n",
      "79/79 - 0s - loss: 0.3329 - accuracy: 0.8743\n",
      "Epoch 19/100\n",
      "79/79 - 0s - loss: 0.3318 - accuracy: 0.8703\n",
      "Epoch 20/100\n",
      "79/79 - 0s - loss: 0.3288 - accuracy: 0.8719\n",
      "Epoch 21/100\n",
      "79/79 - 0s - loss: 0.3275 - accuracy: 0.8723\n",
      "Epoch 22/100\n",
      "79/79 - 0s - loss: 0.3239 - accuracy: 0.8739\n",
      "Epoch 23/100\n",
      "79/79 - 0s - loss: 0.3244 - accuracy: 0.8747\n",
      "Epoch 24/100\n",
      "79/79 - 0s - loss: 0.3223 - accuracy: 0.8747\n",
      "Epoch 25/100\n",
      "79/79 - 0s - loss: 0.3177 - accuracy: 0.8739\n",
      "Epoch 26/100\n",
      "79/79 - 0s - loss: 0.3179 - accuracy: 0.8747\n",
      "Epoch 27/100\n",
      "79/79 - 0s - loss: 0.3155 - accuracy: 0.8747\n",
      "Epoch 28/100\n",
      "79/79 - 0s - loss: 0.3139 - accuracy: 0.8763\n",
      "Epoch 29/100\n",
      "79/79 - 0s - loss: 0.3130 - accuracy: 0.8755\n",
      "Epoch 30/100\n",
      "79/79 - 0s - loss: 0.3103 - accuracy: 0.8731\n",
      "Epoch 31/100\n",
      "79/79 - 0s - loss: 0.3108 - accuracy: 0.8751\n",
      "Epoch 32/100\n",
      "79/79 - 0s - loss: 0.3099 - accuracy: 0.8779\n",
      "Epoch 33/100\n",
      "79/79 - 0s - loss: 0.3083 - accuracy: 0.8743\n",
      "Epoch 34/100\n",
      "79/79 - 0s - loss: 0.3049 - accuracy: 0.8795\n",
      "Epoch 35/100\n",
      "79/79 - 0s - loss: 0.3053 - accuracy: 0.8791\n",
      "Epoch 36/100\n",
      "79/79 - 0s - loss: 0.3039 - accuracy: 0.8771\n",
      "Epoch 37/100\n",
      "79/79 - 0s - loss: 0.3021 - accuracy: 0.8799\n",
      "Epoch 38/100\n",
      "79/79 - 0s - loss: 0.3007 - accuracy: 0.8807\n",
      "Epoch 39/100\n",
      "79/79 - 0s - loss: 0.3000 - accuracy: 0.8803\n",
      "Epoch 40/100\n",
      "79/79 - 0s - loss: 0.2992 - accuracy: 0.8819\n",
      "Epoch 41/100\n",
      "79/79 - 0s - loss: 0.2957 - accuracy: 0.8811\n",
      "Epoch 42/100\n",
      "79/79 - 0s - loss: 0.2961 - accuracy: 0.8783\n",
      "Epoch 43/100\n",
      "79/79 - 0s - loss: 0.2931 - accuracy: 0.8815\n",
      "Epoch 44/100\n",
      "79/79 - 0s - loss: 0.2931 - accuracy: 0.8795\n",
      "Epoch 45/100\n",
      "79/79 - 0s - loss: 0.2919 - accuracy: 0.8807\n",
      "Epoch 46/100\n",
      "79/79 - 0s - loss: 0.2906 - accuracy: 0.8823\n",
      "Epoch 47/100\n",
      "79/79 - 0s - loss: 0.2890 - accuracy: 0.8815\n",
      "Epoch 48/100\n",
      "79/79 - 0s - loss: 0.2882 - accuracy: 0.8811\n",
      "Epoch 49/100\n",
      "79/79 - 0s - loss: 0.2866 - accuracy: 0.8827\n",
      "Epoch 50/100\n",
      "79/79 - 0s - loss: 0.2867 - accuracy: 0.8823\n",
      "Epoch 51/100\n",
      "79/79 - 0s - loss: 0.2872 - accuracy: 0.8815\n",
      "Epoch 52/100\n",
      "79/79 - 0s - loss: 0.2837 - accuracy: 0.8831\n",
      "Epoch 53/100\n",
      "79/79 - 0s - loss: 0.2832 - accuracy: 0.8866\n",
      "Epoch 54/100\n",
      "79/79 - 0s - loss: 0.2818 - accuracy: 0.8850\n",
      "Epoch 55/100\n",
      "79/79 - 0s - loss: 0.2815 - accuracy: 0.8811\n",
      "Epoch 56/100\n",
      "79/79 - 0s - loss: 0.2802 - accuracy: 0.8866\n",
      "Epoch 57/100\n",
      "79/79 - 0s - loss: 0.2784 - accuracy: 0.8862\n",
      "Epoch 58/100\n",
      "79/79 - 0s - loss: 0.2777 - accuracy: 0.8878\n",
      "Epoch 59/100\n",
      "79/79 - 0s - loss: 0.2784 - accuracy: 0.8854\n",
      "Epoch 60/100\n",
      "79/79 - 0s - loss: 0.2770 - accuracy: 0.8874\n",
      "Epoch 61/100\n",
      "79/79 - 0s - loss: 0.2754 - accuracy: 0.8870\n",
      "Epoch 62/100\n",
      "79/79 - 0s - loss: 0.2742 - accuracy: 0.8898\n",
      "Epoch 63/100\n",
      "79/79 - 0s - loss: 0.2741 - accuracy: 0.8910\n",
      "Epoch 64/100\n",
      "79/79 - 0s - loss: 0.2728 - accuracy: 0.8886\n",
      "Epoch 65/100\n",
      "79/79 - 0s - loss: 0.2701 - accuracy: 0.8934\n",
      "Epoch 66/100\n",
      "79/79 - 0s - loss: 0.2697 - accuracy: 0.8914\n",
      "Epoch 67/100\n",
      "79/79 - 0s - loss: 0.2703 - accuracy: 0.8890\n",
      "Epoch 68/100\n",
      "79/79 - 0s - loss: 0.2692 - accuracy: 0.8906\n",
      "Epoch 69/100\n",
      "79/79 - 0s - loss: 0.2679 - accuracy: 0.8942\n",
      "Epoch 70/100\n",
      "79/79 - 0s - loss: 0.2673 - accuracy: 0.8926\n",
      "Epoch 71/100\n",
      "79/79 - 0s - loss: 0.2663 - accuracy: 0.8942\n",
      "Epoch 72/100\n",
      "79/79 - 0s - loss: 0.2668 - accuracy: 0.8926\n",
      "Epoch 73/100\n",
      "79/79 - 0s - loss: 0.2657 - accuracy: 0.8942\n",
      "Epoch 74/100\n",
      "79/79 - 0s - loss: 0.2636 - accuracy: 0.8958\n",
      "Epoch 75/100\n",
      "79/79 - 0s - loss: 0.2651 - accuracy: 0.8954\n",
      "Epoch 76/100\n",
      "79/79 - 0s - loss: 0.2601 - accuracy: 0.8990\n",
      "Epoch 77/100\n",
      "79/79 - 0s - loss: 0.2616 - accuracy: 0.8958\n",
      "Epoch 78/100\n",
      "79/79 - 0s - loss: 0.2626 - accuracy: 0.8938\n",
      "Epoch 79/100\n",
      "79/79 - 0s - loss: 0.2625 - accuracy: 0.8950\n",
      "Epoch 80/100\n",
      "79/79 - 0s - loss: 0.2615 - accuracy: 0.8930\n",
      "Epoch 81/100\n",
      "79/79 - 0s - loss: 0.2599 - accuracy: 0.8922\n",
      "Epoch 82/100\n",
      "79/79 - 0s - loss: 0.2586 - accuracy: 0.8950\n",
      "Epoch 83/100\n",
      "79/79 - 0s - loss: 0.2586 - accuracy: 0.8966\n",
      "Epoch 84/100\n",
      "79/79 - 0s - loss: 0.2565 - accuracy: 0.8982\n",
      "Epoch 85/100\n",
      "79/79 - 0s - loss: 0.2560 - accuracy: 0.8946\n",
      "Epoch 86/100\n",
      "79/79 - 0s - loss: 0.2547 - accuracy: 0.8950\n",
      "Epoch 87/100\n",
      "79/79 - 0s - loss: 0.2553 - accuracy: 0.8962\n",
      "Epoch 88/100\n",
      "79/79 - 0s - loss: 0.2528 - accuracy: 0.8978\n",
      "Epoch 89/100\n",
      "79/79 - 0s - loss: 0.2549 - accuracy: 0.8974\n",
      "Epoch 90/100\n",
      "79/79 - 0s - loss: 0.2556 - accuracy: 0.8954\n",
      "Epoch 91/100\n",
      "79/79 - 0s - loss: 0.2522 - accuracy: 0.8946\n",
      "Epoch 92/100\n",
      "79/79 - 0s - loss: 0.2521 - accuracy: 0.8986\n",
      "Epoch 93/100\n",
      "79/79 - 0s - loss: 0.2518 - accuracy: 0.8954\n",
      "Epoch 94/100\n",
      "79/79 - 0s - loss: 0.2521 - accuracy: 0.8966\n",
      "Epoch 95/100\n",
      "79/79 - 0s - loss: 0.2497 - accuracy: 0.8998\n",
      "Epoch 96/100\n",
      "79/79 - 0s - loss: 0.2503 - accuracy: 0.8982\n",
      "Epoch 97/100\n",
      "79/79 - 0s - loss: 0.2486 - accuracy: 0.9010\n",
      "Epoch 98/100\n",
      "79/79 - 0s - loss: 0.2485 - accuracy: 0.9002\n",
      "Epoch 99/100\n",
      "79/79 - 0s - loss: 0.2472 - accuracy: 0.8978\n",
      "Epoch 100/100\n",
      "79/79 - 0s - loss: 0.2478 - accuracy: 0.8986\n"
     ]
    },
    {
     "output_type": "execute_result",
     "data": {
      "text/plain": [
       "<tensorflow.python.keras.callbacks.History at 0x25aaf3ccdc0>"
      ]
     },
     "metadata": {},
     "execution_count": 19
    }
   ],
   "source": [
    "# Use the training data to fit (train) the model\n",
    "model.fit(X_train_scaled, y_train, epochs=100, shuffle=True, verbose=2)"
   ]
  },
  {
   "source": [
    "## Evaluate the Model"
   ],
   "cell_type": "markdown",
   "metadata": {}
  },
  {
   "cell_type": "code",
   "execution_count": 20,
   "metadata": {},
   "outputs": [
    {
     "output_type": "stream",
     "name": "stdout",
     "text": [
      "27/27 - 0s - loss: 0.4050 - accuracy: 0.8451\n",
      "Loss: 0.40497153997421265, Accuracy: 0.8450536131858826\n"
     ]
    }
   ],
   "source": [
    "# Evaluate the model using the training data\n",
    "model_loss, model_accuracy = model.evaluate(X_test_scaled, y_test, verbose=2)\n",
    "print(f\"Loss: {model_loss}, Accuracy: {model_accuracy}\")"
   ]
  },
  {
   "cell_type": "code",
   "execution_count": 21,
   "metadata": {},
   "outputs": [],
   "source": [
    "# Row to test\n",
    "row = 3"
   ]
  },
  {
   "cell_type": "code",
   "execution_count": 22,
   "metadata": {},
   "outputs": [
    {
     "output_type": "execute_result",
     "data": {
      "text/plain": [
       "array([0., 0., 1.], dtype=float32)"
      ]
     },
     "metadata": {},
     "execution_count": 22
    }
   ],
   "source": [
    "# Actual Class\n",
    "y_test[row]"
   ]
  },
  {
   "cell_type": "code",
   "execution_count": 23,
   "metadata": {},
   "outputs": [],
   "source": [
    "# Grab just one data point to test with\n",
    "test = np.expand_dims(X_test[row], axis=0)"
   ]
  },
  {
   "cell_type": "code",
   "execution_count": 24,
   "metadata": {},
   "outputs": [
    {
     "output_type": "stream",
     "name": "stdout",
     "text": [
      "Predicted class: [1]\n"
     ]
    }
   ],
   "source": [
    "# Make a prediction\n",
    "print(f\"Predicted class: {np.argmax(model.predict(test), axis=-1)}\")"
   ]
  },
  {
   "source": [
    "## Save the Model"
   ],
   "cell_type": "markdown",
   "metadata": {}
  },
  {
   "cell_type": "code",
   "execution_count": 25,
   "metadata": {},
   "outputs": [],
   "source": [
    "# Save model\n",
    "# model.save(\"position_model.h5\")"
   ]
  }
 ]
}