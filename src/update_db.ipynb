{
 "metadata": {
  "language_info": {
   "codemirror_mode": {
    "name": "ipython",
    "version": 3
   },
   "file_extension": ".py",
   "mimetype": "text/x-python",
   "name": "python",
   "nbconvert_exporter": "python",
   "pygments_lexer": "ipython3",
   "version": "3.8.3"
  },
  "orig_nbformat": 2,
  "kernelspec": {
   "name": "python383jvsc74a57bd080c97f02d7c11e83bc363ff72acb071775dee1823dc2665fdbc0eaa45fc52472",
   "display_name": "Python 3.8.3 64-bit ('base': conda)"
  },
  "metadata": {
   "interpreter": {
    "hash": "1b300bb9bd4d73a92210b325091692e1f79e19914015aba7a516bcfa7f17ebe6"
   }
  }
 },
 "nbformat": 4,
 "nbformat_minor": 2,
 "cells": [
  {
   "source": [
    "## Dependencies"
   ],
   "cell_type": "markdown",
   "metadata": {}
  },
  {
   "cell_type": "code",
   "execution_count": 6,
   "metadata": {},
   "outputs": [],
   "source": [
    "# Import Dependencies\n",
    "from tensorflow.keras.models import load_model\n",
    "import joblib\n",
    "import numpy as np\n",
    "import pandas as pd\n",
    "import requests"
   ]
  },
  {
   "source": [
    "## Get Player Data"
   ],
   "cell_type": "markdown",
   "metadata": {}
  },
  {
   "cell_type": "code",
   "execution_count": 7,
   "metadata": {},
   "outputs": [],
   "source": [
    "# Player data from URL\n",
    "results = requests.get(\"http://nhl-app.eba-tmaqptju.us-west-2.elasticbeanstalk.com/api/avgplayerstats/all\").json()"
   ]
  },
  {
   "cell_type": "code",
   "execution_count": 75,
   "metadata": {},
   "outputs": [],
   "source": [
    "# Create Dataframe of player data\n",
    "df = pd.DataFrame()\n",
    "pid_list = []\n",
    "pos_list = []\n",
    "toi_list = []\n",
    "g_list = []\n",
    "a_list = []\n",
    "s_list = []\n",
    "h_list = []\n",
    "ppg_list = []\n",
    "ppa_list = []\n",
    "pim_list = []\n",
    "fow_list = []\n",
    "fot_list = []\n",
    "ta_list = []\n",
    "ga_list = []\n",
    "shg_list = []\n",
    "sha_list = []\n",
    "bs_list = []\n",
    "etoi_list = []\n",
    "shtoi_list = []\n",
    "pptoi_list = []\n",
    "for player in results:\n",
    "    pid_list.append(player['player_id'])\n",
    "    pos_list.append(player['Position'][-1])\n",
    "    toi_list.append(player['timeOnIce'])\n",
    "    a_list.append(player['assists'])\n",
    "    g_list.append(player['goals'])\n",
    "    s_list.append(player['shots'])\n",
    "    h_list.append(player['hits'])\n",
    "    ppg_list.append(player['powerPlayGoals'])\n",
    "    ppa_list.append(player['powerPlayAssists'])\n",
    "    pim_list.append(player['penaltyMinutes'])\n",
    "    fow_list.append(player['faceOffWins'])\n",
    "    fot_list.append(player['faceoffTaken'])\n",
    "    ta_list.append(player['takeaways'])\n",
    "    ga_list.append(player['Expr1'])\n",
    "    shg_list.append(player['shortHandedGoals'])\n",
    "    sha_list.append(player['shortHandedAssists'])\n",
    "    bs_list.append(player['blocked'])\n",
    "    etoi_list.append(player['evenTimeOnIce'])\n",
    "    shtoi_list.append(player['shortHandedTimeOnIce'])\n",
    "    pptoi_list.append(player['powerPlayTimeOnIce'])\n",
    "df[\"pid\"] = pid_list\n",
    "df[\"pos\"] = pos_list\n",
    "df[\"toi\"] = toi_list\n",
    "df[\"g\"] = g_list\n",
    "df[\"a\"] = g_list\n",
    "df[\"s\"] = s_list\n",
    "df[\"h\"] = h_list\n",
    "df[\"ppg\"] = ppg_list\n",
    "df[\"ppa\"] = ppa_list\n",
    "df[\"pim\"] = pim_list\n",
    "df[\"fow\"] = fow_list\n",
    "df[\"fot\"] = fot_list\n",
    "df[\"ta\"] = ta_list\n",
    "df[\"ga\"] = ga_list\n",
    "df[\"shg\"] = shg_list\n",
    "df[\"sha\"] = sha_list\n",
    "df[\"bs\"] = bs_list\n",
    "df[\"etoi\"] = etoi_list\n",
    "df[\"shtoi\"] = shtoi_list\n",
    "df[\"pptoi\"] = pptoi_list"
   ]
  },
  {
   "cell_type": "code",
   "execution_count": 79,
   "metadata": {},
   "outputs": [],
   "source": [
    "X_df = df.drop(columns=[\"pos\", \"pid\"])"
   ]
  },
  {
   "cell_type": "code",
   "execution_count": 80,
   "metadata": {},
   "outputs": [],
   "source": [
    "# Establish X, y\n",
    "X = X_df.values\n",
    "y = df[\"pos\"]"
   ]
  },
  {
   "cell_type": "code",
   "execution_count": 81,
   "metadata": {},
   "outputs": [],
   "source": [
    "from sklearn.preprocessing import StandardScaler\n",
    "\n",
    "# Standardize the columns\n",
    "X_scaler = StandardScaler().fit(X)\n",
    "X_scaled = X_scaler.transform(X)"
   ]
  },
  {
   "source": [
    "## Import Models"
   ],
   "cell_type": "markdown",
   "metadata": {}
  },
  {
   "cell_type": "code",
   "execution_count": 38,
   "metadata": {},
   "outputs": [],
   "source": [
    "# Import and save models\n",
    "nn_model = load_model(\"position_nn_model.h5\")\n",
    "grid_model = joblib.load(\"position_grid_model.pkl\")"
   ]
  },
  {
   "source": [
    "## Neural Network"
   ],
   "cell_type": "markdown",
   "metadata": {}
  },
  {
   "cell_type": "code",
   "execution_count": 87,
   "metadata": {},
   "outputs": [],
   "source": [
    "# Classification for the NN\n",
    "classes = [\"C\", \"D\", \"W\"]"
   ]
  },
  {
   "cell_type": "code",
   "execution_count": 88,
   "metadata": {},
   "outputs": [],
   "source": [
    "# Iterate through each row in the entire dataset\n",
    "nn_predicted = []\n",
    "for row in range(len(X_scaled)):\n",
    "    test = np.expand_dims(X_scaled[row], axis=0)\n",
    "    nn_predicted.append(classes[np.argmax(nn_model.predict(test), axis=-1)[0]])"
   ]
  },
  {
   "cell_type": "code",
   "execution_count": 89,
   "metadata": {},
   "outputs": [],
   "source": [
    "# Add to df\n",
    "df[\"nn_predicted\"] = nn_predicted"
   ]
  },
  {
   "cell_type": "code",
   "execution_count": 90,
   "metadata": {},
   "outputs": [],
   "source": [
    "# Add column to specify if the NN predicted the player's position correctly\n",
    "df[\"nn_match\"] = df[\"pos\"] == df[\"nn_predicted\"]"
   ]
  },
  {
   "source": [
    "## Grid Search"
   ],
   "cell_type": "markdown",
   "metadata": {}
  },
  {
   "cell_type": "code",
   "execution_count": 91,
   "metadata": {},
   "outputs": [],
   "source": [
    "# Use Grid Search Model to predict position\n",
    "grid_pred_classes = grid_model.predict(X_scaled)"
   ]
  },
  {
   "cell_type": "code",
   "execution_count": 92,
   "metadata": {},
   "outputs": [],
   "source": [
    "# Iterate through each predicted class and reclassify as the position\n",
    "grid_predicted = [classes[i] for i in grid_pred_classes]"
   ]
  },
  {
   "cell_type": "code",
   "execution_count": 93,
   "metadata": {},
   "outputs": [],
   "source": [
    "# Add to df\n",
    "df[\"grid_predicted\"] = grid_predicted"
   ]
  },
  {
   "cell_type": "code",
   "execution_count": 94,
   "metadata": {},
   "outputs": [],
   "source": [
    "# Add column to specify if the Grid Search predicted the player's position correctly\n",
    "df[\"grid_match\"] = df[\"pos\"] == df[\"grid_predicted\"]"
   ]
  },
  {
   "cell_type": "code",
   "execution_count": 95,
   "metadata": {},
   "outputs": [],
   "source": [
    "# Add column to specify if the Grid Search matched the NN\n",
    "df[\"models_match\"] = df[\"nn_predicted\"] == df[\"grid_predicted\"]"
   ]
  },
  {
   "source": [
    "## Update Player Stats Table"
   ],
   "cell_type": "markdown",
   "metadata": {}
  },
  {
   "cell_type": "code",
   "execution_count": 99,
   "metadata": {},
   "outputs": [],
   "source": [
    "new_data_df = df[[\"pid\", \"grid_predicted\", \"nn_predicted\"]]"
   ]
  },
  {
   "cell_type": "code",
   "execution_count": 100,
   "metadata": {},
   "outputs": [
    {
     "output_type": "execute_result",
     "data": {
      "text/plain": [
       "          pid grid_predicted nn_predicted\n",
       "0     8478498              W            W\n",
       "1     8471941              W            W\n",
       "2     8479613              D            W\n",
       "3     8473565              D            D\n",
       "4     8471237              W            D\n",
       "...       ...            ...          ...\n",
       "3348  8458805              D            D\n",
       "3349  8467363              W            W\n",
       "3350  8478506              D            D\n",
       "3351  8466260              W            W\n",
       "3352  8469779              C            C\n",
       "\n",
       "[3353 rows x 3 columns]"
      ],
      "text/html": "<div>\n<style scoped>\n    .dataframe tbody tr th:only-of-type {\n        vertical-align: middle;\n    }\n\n    .dataframe tbody tr th {\n        vertical-align: top;\n    }\n\n    .dataframe thead th {\n        text-align: right;\n    }\n</style>\n<table border=\"1\" class=\"dataframe\">\n  <thead>\n    <tr style=\"text-align: right;\">\n      <th></th>\n      <th>pid</th>\n      <th>grid_predicted</th>\n      <th>nn_predicted</th>\n    </tr>\n  </thead>\n  <tbody>\n    <tr>\n      <th>0</th>\n      <td>8478498</td>\n      <td>W</td>\n      <td>W</td>\n    </tr>\n    <tr>\n      <th>1</th>\n      <td>8471941</td>\n      <td>W</td>\n      <td>W</td>\n    </tr>\n    <tr>\n      <th>2</th>\n      <td>8479613</td>\n      <td>D</td>\n      <td>W</td>\n    </tr>\n    <tr>\n      <th>3</th>\n      <td>8473565</td>\n      <td>D</td>\n      <td>D</td>\n    </tr>\n    <tr>\n      <th>4</th>\n      <td>8471237</td>\n      <td>W</td>\n      <td>D</td>\n    </tr>\n    <tr>\n      <th>...</th>\n      <td>...</td>\n      <td>...</td>\n      <td>...</td>\n    </tr>\n    <tr>\n      <th>3348</th>\n      <td>8458805</td>\n      <td>D</td>\n      <td>D</td>\n    </tr>\n    <tr>\n      <th>3349</th>\n      <td>8467363</td>\n      <td>W</td>\n      <td>W</td>\n    </tr>\n    <tr>\n      <th>3350</th>\n      <td>8478506</td>\n      <td>D</td>\n      <td>D</td>\n    </tr>\n    <tr>\n      <th>3351</th>\n      <td>8466260</td>\n      <td>W</td>\n      <td>W</td>\n    </tr>\n    <tr>\n      <th>3352</th>\n      <td>8469779</td>\n      <td>C</td>\n      <td>C</td>\n    </tr>\n  </tbody>\n</table>\n<p>3353 rows × 3 columns</p>\n</div>"
     },
     "metadata": {},
     "execution_count": 100
    }
   ],
   "source": [
    "new_data_df"
   ]
  },
  {
   "cell_type": "code",
   "execution_count": null,
   "metadata": {},
   "outputs": [],
   "source": []
  }
 ]
}