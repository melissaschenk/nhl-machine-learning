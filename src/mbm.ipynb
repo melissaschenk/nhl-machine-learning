{
 "cells": [
  {
   "cell_type": "code",
   "execution_count": 2,
   "metadata": {},
   "outputs": [
    {
     "name": "stdout",
     "output_type": "stream",
     "text": [
      "Collecting pyodbc\n",
      "  Downloading pyodbc-4.0.30-cp36-cp36m-win_amd64.whl (78 kB)\n",
      "Installing collected packages: pyodbc\n",
      "  Attempting uninstall: pyodbc\n",
      "    Found existing installation: pyodbc 4.0.0-unsupported\n",
      "    Uninstalling pyodbc-4.0.0-unsupported:\n",
      "      Successfully uninstalled pyodbc-4.0.0-unsupported\n",
      "Successfully installed pyodbc-4.0.30\n"
     ]
    }
   ],
   "source": [
    "!pip install pyodbc\r\n",
    "!pip install --upgrade pyodbc"
   ]
  },
  {
   "cell_type": "code",
   "execution_count": 1,
   "metadata": {},
   "outputs": [],
   "source": [
    "import pyodbc as podbc\r\n",
    "import config"
   ]
  },
  {
   "cell_type": "code",
   "execution_count": 4,
   "metadata": {},
   "outputs": [],
   "source": [
    "def MF_SQL(p_SQL):\r\n",
    "    conn = podbc.connect(config.sql_conn)\r\n",
    "    cursor = conn.cursor()\r\n",
    "    # sql = \"SELECT top 10 * FROM game_skater_stats\"\r\n",
    "    cursor.execute(p_SQL)\r\n",
    "    data = cursor.fetchone()\r\n",
    "    rows = []\r\n",
    "    num_fields = len(cursor.description)\r\n",
    "    field_names = [i[0] for i in cursor.description]\r\n",
    "    \r\n",
    "    while data:\r\n",
    "        # print(data)\r\n",
    "        row_dict = {}\r\n",
    "        for i in range(num_fields):       \r\n",
    "            row_dict[field_names[i]] = data[i]\r\n",
    "        \r\n",
    "        # print(row_dict)\r\n",
    "        rows.append(row_dict)\r\n",
    "        \r\n",
    "                                                \r\n",
    "        data = cursor.fetchone()\r\n",
    "    \r\n",
    "    conn.close()\r\n",
    "    return rows\r\n"
   ]
  },
  {
   "cell_type": "code",
   "execution_count": 5,
   "metadata": {},
   "outputs": [
    {
     "data": {
      "text/plain": "[{'player_id': 8468513, 'goals': 0, 'penaltyMinutes': 0},\n {'player_id': 8462082, 'goals': 0, 'penaltyMinutes': 0},\n {'player_id': 8476906, 'goals': 0, 'penaltyMinutes': 2},\n {'player_id': 8456887, 'goals': 0, 'penaltyMinutes': 0},\n {'player_id': 8474668, 'goals': 0, 'penaltyMinutes': 0},\n {'player_id': 8473512, 'goals': 0, 'penaltyMinutes': 0},\n {'player_id': 8471762, 'goals': 0, 'penaltyMinutes': 0},\n {'player_id': 8478439, 'goals': 0, 'penaltyMinutes': 0},\n {'player_id': 8479648, 'goals': 0, 'penaltyMinutes': 0},\n {'player_id': 8470159, 'goals': 0, 'penaltyMinutes': 2}]"
     },
     "execution_count": 5,
     "metadata": {},
     "output_type": "execute_result"
    }
   ],
   "source": [
    "sqldata = MF_SQL(\"SELECT top 10 player_id,goals,penaltyMinutes FROM game_skater_stats\")\r\n",
    "sqldata"
   ]
  },
  {
   "cell_type": "code",
   "execution_count": 82,
   "metadata": {},
   "outputs": [
    {
     "name": "stdout",
     "output_type": "stream",
     "text": [
      "0\n",
      "0\n",
      "0\n",
      "0\n",
      "0\n",
      "0\n",
      "0\n",
      "0\n",
      "0\n",
      "0\n"
     ]
    }
   ],
   "source": [
    "for row in sqldata:\r\n",
    "    print(row[\"goals\"])"
   ]
  },
  {
   "cell_type": "code",
   "execution_count": null,
   "metadata": {},
   "outputs": [],
   "source": []
  }
 ],
 "metadata": {
  "kernelspec": {
   "display_name": "Python 3.8.5 64-bit ('base': conda)",
   "name": "python385jvsc74a57bd0081b6216928d55ece203d92fdcd5214719477f63e022b6b86f3f62fef0361037"
  },
  "language_info": {
   "codemirror_mode": {
    "name": "ipython",
    "version": 3
   },
   "file_extension": ".py",
   "mimetype": "text/x-python",
   "name": "python",
   "nbconvert_exporter": "python",
   "pygments_lexer": "ipython3",
   "version": "3.8.5"
  },
  "orig_nbformat": 2
 },
 "nbformat": 4,
 "nbformat_minor": 2
}