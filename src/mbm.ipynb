{
 "cells": [
  {
   "cell_type": "code",
   "execution_count": 2,
   "metadata": {},
   "outputs": [
    {
     "name": "stdout",
     "output_type": "stream",
     "text": [
      "Collecting pyodbc\n",
      "  Downloading pyodbc-4.0.30-cp36-cp36m-win_amd64.whl (78 kB)\n",
      "Installing collected packages: pyodbc\n",
      "  Attempting uninstall: pyodbc\n",
      "    Found existing installation: pyodbc 4.0.0-unsupported\n",
      "    Uninstalling pyodbc-4.0.0-unsupported:\n",
      "      Successfully uninstalled pyodbc-4.0.0-unsupported\n",
      "Successfully installed pyodbc-4.0.30\n"
     ]
    }
   ],
   "source": [
    "!pip install pyodbc\r\n",
    "!pip install --upgrade pyodbc"
   ]
  },
  {
   "cell_type": "code",
   "execution_count": 1,
   "metadata": {},
   "outputs": [],
   "source": [
    "import pyodbc as podbc\r\n",
    "import config"
   ]
  },
  {
   "cell_type": "code",
   "execution_count": 39,
   "metadata": {},
   "outputs": [],
   "source": [
    "def MF_SQL_Dict(p_SQL):\r\n",
    "    conn = podbc.connect(config.sql_conn)\r\n",
    "    cursor = conn.cursor()\r\n",
    "    # sql = \"SELECT top 10 * FROM game_skater_stats\"\r\n",
    "    cursor.execute(p_SQL)\r\n",
    "    data = cursor.fetchone()\r\n",
    "    rows = []\r\n",
    "    num_fields = len(cursor.description)\r\n",
    "    field_names = [i[0] for i in cursor.description]\r\n",
    "    \r\n",
    "    while data:\r\n",
    "        # print(data)\r\n",
    "        row_dict = {}\r\n",
    "        for i in range(num_fields):       \r\n",
    "            row_dict[field_names[i]] = data[i]\r\n",
    "        \r\n",
    "        # print(row_dict)\r\n",
    "        rows.append(row_dict)\r\n",
    "        \r\n",
    "                                                \r\n",
    "        data = cursor.fetchone()\r\n",
    "    \r\n",
    "    conn.close()\r\n",
    "\r\n",
    "    return rows\r\n"
   ]
  },
  {
   "cell_type": "code",
   "execution_count": 32,
   "metadata": {},
   "outputs": [],
   "source": [
    "def MF_SQL_List(p_SQL):\r\n",
    "    conn = podbc.connect(config.sql_conn)\r\n",
    "    cursor = conn.cursor()    \r\n",
    "    cursor.execute(p_SQL)\r\n",
    "    data = cursor.fetchone()\r\n",
    "    rows = []\r\n",
    "    num_fields = len(cursor.description)\r\n",
    "    field_names = [i[0] for i in cursor.description]\r\n",
    "    print(num_fields,field_names)\r\n",
    "    while data:            \r\n",
    "        rows.append(data[0])                                                \r\n",
    "        data = cursor.fetchone()\r\n",
    "    \r\n",
    "    conn.close()\r\n",
    "    dict = {}\r\n",
    "    dict[\"list\"] = rows\r\n",
    "    return dict\r\n"
   ]
  },
  {
   "cell_type": "code",
   "execution_count": 40,
   "metadata": {},
   "outputs": [
    {
     "ename": "TypeError",
     "evalue": "'type' object does not support item assignment",
     "output_type": "error",
     "traceback": [
      "\u001b[1;31m---------------------------------------------------------------------------\u001b[0m",
      "\u001b[1;31mTypeError\u001b[0m                                 Traceback (most recent call last)",
      "\u001b[1;32m<ipython-input-40-4af279f9cc90>\u001b[0m in \u001b[0;36m<module>\u001b[1;34m\u001b[0m\n\u001b[1;32m----> 1\u001b[1;33m \u001b[0msqldata\u001b[0m \u001b[1;33m=\u001b[0m \u001b[0mMF_SQL_Dict\u001b[0m\u001b[1;33m(\u001b[0m\u001b[1;34m\"SELECT top 10 player_id,goals,penaltyMinutes FROM game_skater_stats\"\u001b[0m\u001b[1;33m)\u001b[0m\u001b[1;33m\u001b[0m\u001b[1;33m\u001b[0m\u001b[0m\n\u001b[0m\u001b[0;32m      2\u001b[0m \u001b[0msqldata\u001b[0m\u001b[1;33m\u001b[0m\u001b[1;33m\u001b[0m\u001b[0m\n",
      "\u001b[1;32m<ipython-input-39-83f61cefbec3>\u001b[0m in \u001b[0;36mMF_SQL_Dict\u001b[1;34m(p_SQL)\u001b[0m\n\u001b[0;32m     23\u001b[0m     \u001b[0mconn\u001b[0m\u001b[1;33m.\u001b[0m\u001b[0mclose\u001b[0m\u001b[1;33m(\u001b[0m\u001b[1;33m)\u001b[0m\u001b[1;33m\u001b[0m\u001b[1;33m\u001b[0m\u001b[0m\n\u001b[0;32m     24\u001b[0m \u001b[1;33m\u001b[0m\u001b[0m\n\u001b[1;32m---> 25\u001b[1;33m     \u001b[0mdict\u001b[0m\u001b[1;33m[\u001b[0m\u001b[1;34m\"query\"\u001b[0m\u001b[1;33m]\u001b[0m \u001b[1;33m=\u001b[0m \u001b[0mrows\u001b[0m\u001b[1;33m\u001b[0m\u001b[1;33m\u001b[0m\u001b[0m\n\u001b[0m\u001b[0;32m     26\u001b[0m \u001b[1;33m\u001b[0m\u001b[0m\n\u001b[0;32m     27\u001b[0m     \u001b[1;32mreturn\u001b[0m \u001b[0mrows\u001b[0m\u001b[1;33m\u001b[0m\u001b[1;33m\u001b[0m\u001b[0m\n",
      "\u001b[1;31mTypeError\u001b[0m: 'type' object does not support item assignment"
     ]
    }
   ],
   "source": [
    "sqldata = MF_SQL_Dict(\"SELECT top 10 player_id,goals,penaltyMinutes FROM game_skater_stats\")\r\n",
    "sqldata"
   ]
  },
  {
   "cell_type": "code",
   "execution_count": 38,
   "metadata": {},
   "outputs": [
    {
     "name": "stdout",
     "output_type": "stream",
     "text": [
      "1 ['season']\n"
     ]
    },
    {
     "data": {
      "text/plain": "{'list': [20192020,\n  20182019,\n  20172018,\n  20162017,\n  20152016,\n  20142015,\n  20132014,\n  20122013,\n  20112012,\n  20102011,\n  20092010,\n  20082009,\n  20072008,\n  20062007,\n  20052006,\n  20032004,\n  20022003,\n  20012002,\n  20002001]}"
     },
     "execution_count": 38,
     "metadata": {},
     "output_type": "execute_result"
    }
   ],
   "source": [
    "sqldata = MF_SQL_List(\"select distinct season from game order by season desc\")\r\n",
    "sqldata"
   ]
  },
  {
   "cell_type": "code",
   "execution_count": 82,
   "metadata": {},
   "outputs": [
    {
     "name": "stdout",
     "output_type": "stream",
     "text": [
      "0\n",
      "0\n",
      "0\n",
      "0\n",
      "0\n",
      "0\n",
      "0\n",
      "0\n",
      "0\n",
      "0\n"
     ]
    }
   ],
   "source": [
    "for row in sqldata:\r\n",
    "    print(row[\"goals\"])"
   ]
  },
  {
   "cell_type": "code",
   "execution_count": null,
   "metadata": {},
   "outputs": [],
   "source": []
  }
 ],
 "metadata": {
  "kernelspec": {
   "display_name": "Python 3.8.5 64-bit ('base': conda)",
   "name": "python385jvsc74a57bd0081b6216928d55ece203d92fdcd5214719477f63e022b6b86f3f62fef0361037"
  },
  "language_info": {
   "codemirror_mode": {
    "name": "ipython",
    "version": 3
   },
   "file_extension": ".py",
   "mimetype": "text/x-python",
   "name": "python",
   "nbconvert_exporter": "python",
   "pygments_lexer": "ipython3",
   "version": "3.8.5"
  },
  "orig_nbformat": 2
 },
 "nbformat": 4,
 "nbformat_minor": 2
}